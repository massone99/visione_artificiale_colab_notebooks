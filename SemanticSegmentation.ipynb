{
  "nbformat": 4,
  "nbformat_minor": 0,
  "metadata": {
    "colab": {
      "private_outputs": true,
      "provenance": [],
      "toc_visible": true,
      "include_colab_link": true
    },
    "kernelspec": {
      "name": "python3",
      "display_name": "Python 3"
    },
    "accelerator": "GPU"
  },
  "cells": [
    {
      "cell_type": "markdown",
      "metadata": {
        "id": "view-in-github",
        "colab_type": "text"
      },
      "source": [
        "<a href=\"https://colab.research.google.com/github/massone99/visione_artificiale_colab_notebooks/blob/main/SemanticSegmentation.ipynb\" target=\"_parent\"><img src=\"https://colab.research.google.com/assets/colab-badge.svg\" alt=\"Open In Colab\"/></a>"
      ]
    },
    {
      "cell_type": "markdown",
      "metadata": {
        "id": "KX3NzcViX0C4"
      },
      "source": [
        "# **Esercitazione su semantic segmentation**\n",
        "Nell'esercitazione odierna utilizzeremo l'architettura U-Net per segmentare i nuclei delle cellule in immagini medicali.\n",
        "\n",
        "Faremo uso del framework **TensorFlow**, sfruttando la libreria open-source **Keras** appositamente progettata per permettere una rapida prototipazione di reti neurali profonde."
      ]
    },
    {
      "cell_type": "markdown",
      "metadata": {
        "id": "BRjjqRyyqzZ1"
      },
      "source": [
        "# **Operazioni preliminari**\n",
        "\n",
        "Eseguendo la cella sottostante tutto il materiale necessario per lo svolgimento dell'esercitazione verrà scaricato sulla macchina remota. Alla fine dell'esecuzione selezionare il tab **Files** per verificare che tutto sia stato scaricato correttamente."
      ]
    },
    {
      "cell_type": "code",
      "metadata": {
        "id": "V01kcMfKcuEj"
      },
      "source": [
        "!wget http://bias.csr.unibo.it/VR/Esercitazioni/DBs/SemanticSegmentation/Train_2018DataScienceBowl.zip\n",
        "!wget http://bias.csr.unibo.it/VR/Esercitazioni/DBs/SemanticSegmentation/Test_2018DataScienceBowl.zip\n",
        "!wget http://bias.csr.unibo.it/VR/Esercitazioni/PythonUtilities.zip\n",
        "\n",
        "!unzip /content/Test_2018DataScienceBowl.zip\n",
        "!unzip /content/Train_2018DataScienceBowl.zip\n",
        "!unzip /content/PythonUtilities.zip\n",
        "\n",
        "!rm /content/Test_2018DataScienceBowl.zip\n",
        "!rm /content/Train_2018DataScienceBowl.zip\n",
        "!rm /content/PythonUtilities.zip"
      ],
      "execution_count": null,
      "outputs": []
    },
    {
      "cell_type": "markdown",
      "metadata": {
        "id": "O72Zh20UWg4J"
      },
      "source": [
        "# **Import delle librerie di base**\n",
        "Per prima cosa è necessario eseguire l'import delle librerie di base utilizzate durante l'esecitazione."
      ]
    },
    {
      "cell_type": "code",
      "metadata": {
        "id": "zHDxEW1YWhQZ"
      },
      "source": [
        "import numpy as np\n",
        "import matplotlib.pyplot as plt\n",
        "import tensorflow as tf\n",
        "from tensorflow import keras\n",
        "from keras import backend as K\n",
        "import sklearn\n",
        "from sklearn.model_selection import train_test_split\n",
        "import random\n",
        "\n",
        "import vr_utilities"
      ],
      "execution_count": null,
      "outputs": []
    },
    {
      "cell_type": "markdown",
      "metadata": {
        "id": "XnToyVd6FOSh"
      },
      "source": [
        "# **Dataset per l'addestramento**\n",
        "In questa esercitazione useremo il dataset di training fornito per la  competizione [*2018 Data Science Bowl*](https://www.kaggle.com/c/data-science-bowl-2018) presente su [**Kaggle**](https://www.kaggle.com/), una piattaforma online per competizioni di modelli predittivi e analitici.\n",
        "\n",
        "Il dataset consiste in un insieme di immagini RGB e rispettive maschere (*ground truth*) per la segmentazione di nuclei cellulari (problema biclasse: 0=background, 1=nucleo).\n",
        "\n",
        "Eseguendo la cella sottostante il dataset di training sarà caricato in memoria."
      ]
    },
    {
      "cell_type": "code",
      "metadata": {
        "id": "I2LWbRpRFQ02"
      },
      "source": [
        "db_path='/content/Train'\n",
        "image_ext='.bmp'\n",
        "\n",
        "# Caricamento delle immagini\n",
        "print('Caricamento in corso ...')\n",
        "images,masks=vr_utilities.load_image_dataset_with_masks(db_path+'/Images',db_path+'/Masks','*'+image_ext)\n",
        "\n",
        "# Normalizzazione\n",
        "images=(images/255)\n",
        "masks=(masks/255)\n",
        "images=images.astype(np.float32)\n",
        "masks=masks.astype(np.float32)\n",
        "\n",
        "print('Shape immagini dataset: ',images.shape)\n",
        "print('Shape maschere dataset: ',masks.shape)"
      ],
      "execution_count": null,
      "outputs": []
    },
    {
      "cell_type": "markdown",
      "metadata": {
        "id": "IQTWxHQpOkVH"
      },
      "source": [
        "La cella seguente contiene il codice per mostrare un'immagine del training set scelta casualmente e rispettiva maschera (nero=background e bianco=nucleo)."
      ]
    },
    {
      "cell_type": "code",
      "metadata": {
        "id": "qNMnHMsnOqR-"
      },
      "source": [
        "# Visualizzazione di un'immagine casuale\n",
        "random_idx=random.randint(0,images.shape[0])\n",
        "_, axs = plt.subplots(1, 2,figsize=(10, 5))\n",
        "axs[0].imshow(images[random_idx]),axs[0].axis('off'),axs[0].set_title('Image')\n",
        "axs[1].imshow(np.squeeze(masks[random_idx],axis=2),cmap='gray'),axs[1].axis('off'),axs[1].set_title('Mask')\n",
        "plt.show()"
      ],
      "execution_count": null,
      "outputs": []
    },
    {
      "cell_type": "markdown",
      "metadata": {
        "id": "xztb5HuAGX-V"
      },
      "source": [
        "Il dataset caricato può essere suddiviso in due parti: training e validation set. Attraverso il validation set sarà possibile valutare i risultati della rete addestrata sul training set al fine di individuare il valore ottimale per gli iperparametri.\n",
        "\n",
        "Visto che in Machine Learning è comune eseguire tale operazione, la libreria **Scikit-learn** mette a disposizione una apposita funzione, [**train_test_split(...)**](http://scikit-learn.org/stable/modules/generated/sklearn.model_selection.train_test_split.html), che permette di separare un dataset in due parti.\n",
        "\n",
        "Il parametro *validation_size* descrive la percentuale (o il numero) di pattern che dovrà essere contenuta nel validation set. Come configurazione predefinita **train_test_split(...)** mescola i pattern al fine di evitare che i dataset restituiti contengano pattern appartenenti solamente a un sottoinsieme delle classi."
      ]
    },
    {
      "cell_type": "code",
      "metadata": {
        "id": "8P3B1gaMGbYL"
      },
      "source": [
        "random_seed=1234 #Seme per la selezione pseudo-casuale dei pattern\n",
        "validation_size=150 #percentuale (o numero) di pattern del validation set\n",
        "\n",
        "train_x, validation_x, train_y, validation_y = train_test_split(images, masks,\n",
        "                                                                test_size=validation_size,\n",
        "                                                                random_state=random_seed)\n",
        "\n",
        "print('Shape training set:', train_x.shape)\n",
        "print('Shape validation set:', validation_x.shape)"
      ],
      "execution_count": null,
      "outputs": []
    },
    {
      "cell_type": "markdown",
      "metadata": {
        "id": "S-KzzwvwOMoW"
      },
      "source": [
        "# **Jaccard index**\n",
        "\n",
        "Keras, oltre a mettere a disposizione degli utenti [numerose metriche](https://keras.io/metrics/) predefinite per la valutazione delle prestazioni di una rete, permette all'utente di definirne delle proprie nel caso queste non fossero già presenti.\n",
        "\n",
        "Visto che il problema che dovremo affrontare presenta due classi piuttosto sbilanciate, oltre all'accuratezza sarà utile misurare anche l'indice di *Jaccard* (o *Intersection over Union*):\n",
        "\n",
        "\\begin{align*}\n",
        "J(A,B)=\\frac{|A\\cap B|}{|A \\cup B|}\n",
        "\\end{align*}\n",
        "\n",
        "Eseguire la cella sottostante per definire tale indice."
      ]
    },
    {
      "cell_type": "code",
      "metadata": {
        "id": "ij44tIJ9OMy9"
      },
      "source": [
        "smooth = 1e-12\n",
        "\n",
        "def jaccard_index(y_true, y_pred):\n",
        "    intersection = K.sum(y_true * y_pred, axis=[0, -1, -2])\n",
        "    sum_ = K.sum(y_true + y_pred, axis=[0, -1, -2])\n",
        "\n",
        "    jac = (intersection + smooth) / (sum_ - intersection + smooth)\n",
        "\n",
        "    return K.mean(jac)"
      ],
      "execution_count": null,
      "outputs": []
    },
    {
      "cell_type": "markdown",
      "metadata": {
        "id": "-aEXUN4vWTRD"
      },
      "source": [
        "# **U-Net**\n",
        "\n",
        "Il modello U-Net è una *fully convolutional neural network* proposta originariamente per effettuare segmentazione binaria (foreground e background) di immagini medicali. È essenzialmente composta da tre parti:\n",
        "1. **Downsampling Path** - composto da 4 blocchi, ha lo scopo di ridurre le dimensioni spaziali dell'input aumentandone contemporaneamente la profondità. Ogni blocco consiste in due livelli di convoluzione (filtro 3x3, stride=1, nessun padding e ReLU come funzione di attivazione) e un livello di max-pooling (2x2, stride=2 e nessun padding).\n",
        "2. **Bottleneck** - composto da due livelli di convoluzione (filtro 3x3, stride=1, nessun padding e ReLU come funzione di attivazione).\n",
        "3. **Upsampling Path** - composto da 4 blocchi, ha lo scopo di portare la *segmentation map* restituita dal *Bottleneck* alle dimensioni spaziali dell'immagine di input. Ogni blocco consiste in un livello di *upsampling* per raddoppiare le dimensioni spaziali, un livello di convoluzione (filtro 2x2, stride=1, nessun padding) che dimezza il numero di canali, la concatenazione (*skip connections*) con la corrispondente feature map del *Downsampling Path* e infine due livelli di convoluzione (filtro 3x3, stride=1, nessun padding e ReLU come funzione di attivazione).\n",
        "\n",
        "Il livello finale di convoluzione (filtro 1x1, stride=1, nessun padding e *Sigmoid* come funzione di attivazione) è utilizzato per restituire una *segmentation map* con una profondità pari al numero di classi del problema.\n",
        "\n",
        "\n",
        "![alt text](https://github.com/nikhilroxtomar/UNet-Segmentation-in-Keras-TensorFlow/raw/53b5e697d3c010546b9443534a067541c4c50eb9/images/u-net-architecture.png)"
      ]
    },
    {
      "cell_type": "markdown",
      "metadata": {
        "id": "S91wDIxyiyvS"
      },
      "source": [
        "## **Downsampling block**\n",
        "La cella seguente definisce la funzione **down_block(...)** per creare un blocco di *downsampling* dati in input:\n",
        "- la feature map (*x*);\n",
        "- il numero di filtri (*filter_count*)."
      ]
    },
    {
      "cell_type": "code",
      "metadata": {
        "id": "z8bGmbeuWWHb"
      },
      "source": [
        "def down_block(x, filter_count):\n",
        "    c = keras.layers.Conv2D(filter_count, 3, padding='same', activation='relu')(x)\n",
        "    c = keras.layers.Conv2D(filter_count, 3, padding='same', activation='relu')(c)\n",
        "    p = keras.layers.MaxPool2D(2, 2)(c)\n",
        "    return c, p"
      ],
      "execution_count": null,
      "outputs": []
    },
    {
      "cell_type": "markdown",
      "metadata": {
        "id": "8OHSGFF-ftH7"
      },
      "source": [
        "## **Bottleneck**\n",
        "La cella seguente definisce la funzione **bottleneck(...)** per creare il *bottleneck* dati in input:\n",
        "- la feature map (*x*);\n",
        "- il numero di filtri (*filter_count*)."
      ]
    },
    {
      "cell_type": "code",
      "metadata": {
        "id": "l7VN6T8PftZy"
      },
      "source": [
        "def bottleneck(x, filter_count):\n",
        "    c = keras.layers.Conv2D(filter_count, 3, padding='same', activation='relu')(x)\n",
        "    c = keras.layers.Conv2D(filter_count, 3, padding='same', activation='relu')(c)\n",
        "    return c"
      ],
      "execution_count": null,
      "outputs": []
    },
    {
      "cell_type": "markdown",
      "metadata": {
        "id": "DNxgiK8Kg2vp"
      },
      "source": [
        "## **Upsampling block**\n",
        "La cella seguente definisce la funzione **up_block(...)** per creare un blocco di *upsampling* dati in input:\n",
        "- la feature map (*x*);\n",
        "- la *skip connection* da concatenare (*skip*);\n",
        "- il numero di filtri (*filter_count*)."
      ]
    },
    {
      "cell_type": "code",
      "metadata": {
        "id": "TOkTZsFmg3Ng"
      },
      "source": [
        "def up_block(x, skip, filter_count):\n",
        "    us = keras.layers.UpSampling2D(2)(x)\n",
        "    c=keras.layers.Conv2D(filter_count, 2, padding='same')(us)\n",
        "    concat = keras.layers.Concatenate()([c, skip])\n",
        "    c = keras.layers.Conv2D(filter_count, 3, padding='same', activation='relu')(concat)\n",
        "    c = keras.layers.Conv2D(filter_count, 3, padding='same', activation='relu')(c)\n",
        "    return c"
      ],
      "execution_count": null,
      "outputs": []
    },
    {
      "cell_type": "markdown",
      "metadata": {
        "id": "kaatXmO0WWjL"
      },
      "source": [
        "## **Definizione del modello**\n",
        "La cella seguente definisce la funzione **UNet(...)** per creare una rete U-Net (modello) dati in input:\n",
        "- le dimensioni delle immagini di input (*image_shape*);\n",
        "- il numero di filtri da utilizzare in ogni blocco di *downsampling* e di *upsampling* (*block_filter_count*).\n"
      ]
    },
    {
      "cell_type": "code",
      "metadata": {
        "id": "wNnTjlZEV795"
      },
      "source": [
        "def UNet(image_shape,block_filter_count=[64, 128, 256, 512, 1024]):\n",
        "\n",
        "    inputs = keras.layers.Input(image_shape)\n",
        "\n",
        "    # Downsampling path\n",
        "    p0 = inputs\n",
        "    c1, p1 = down_block(p0, block_filter_count[0])\n",
        "    c2, p2 = down_block(p1, block_filter_count[1])\n",
        "    c3, p3 = down_block(p2, block_filter_count[2])\n",
        "    c4, p4 = down_block(p3, block_filter_count[3])\n",
        "\n",
        "    # Bottleneck\n",
        "    bn = bottleneck(p4, block_filter_count[4])\n",
        "\n",
        "    # Upsampling path\n",
        "    u1 = up_block(bn, c4, block_filter_count[3])\n",
        "    u2 = up_block(u1, c3, block_filter_count[2])\n",
        "    u3 = up_block(u2, c2, block_filter_count[1])\n",
        "    u4 = up_block(u3, c1, block_filter_count[0])\n",
        "\n",
        "    # Output\n",
        "    outputs = keras.layers.Conv2D(1, 1, padding='same', activation='sigmoid')(u4)\n",
        "\n",
        "    return keras.models.Model(inputs, outputs)"
      ],
      "execution_count": null,
      "outputs": []
    },
    {
      "cell_type": "markdown",
      "metadata": {
        "id": "ZrE346LjjCUY"
      },
      "source": [
        "## **Iperparametri**\n",
        "Gli iperparametri su cui si può intervenire in fase di creazione della rete sono (in ordine di importanza):\n",
        "1. il numero di filtri da utilizzare in ogni blocco di *downsampling* e di *upsampling* (*block_filter_count*). Nella versione originale della U-Net il numero di filtri per blocco sono: [64, 128, 256, 512, 1024] (da un blocco al successivo il numero di filtri raddoppia). Per riuscire ad addestrare più velocemente la rete si consiglia di partire con un numero inferiore di filtri;\n",
        "2. l'ottimizzatore (*optimizer*) utilizzato dalla rete per implementare la *back propagation*. Keras mette a disposizione vari [ottimizzatori](https://keras.io/optimizers/) già implementati;\n",
        "3. i singoli parametri dell'ottimizzatore di cui il più importante è sicuramente il *learning rate*. Per una descrizione dettagliata dei vari parametri di ogni ottimizzatore fare riferimento alla documentazione di Keras;\n",
        "4. la *loss function* della rete (*loss_function*). Keras mette a disposizione varie [*loss*](https://keras.io/losses/). Attenzione perché non tutte le *loss* sono adatte a un problema binario come quello oggetto dell'esercitazione.\n",
        "\n",
        "<u>Nota:</u> la cella sottostante assegna agli iperparametri dei valori di partenza utili per fare delle prime prove."
      ]
    },
    {
      "cell_type": "code",
      "metadata": {
        "id": "_DnnRWLqjJrv"
      },
      "source": [
        "block_filter_count = [8, 16, 32, 64, 128]\n",
        "\n",
        "optimizer=keras.optimizers.SGD(learning_rate=0.01, momentum=0.0, nesterov=False)\n",
        "\n",
        "loss_function='binary_crossentropy'"
      ],
      "execution_count": null,
      "outputs": []
    },
    {
      "cell_type": "markdown",
      "metadata": {
        "id": "ezLPx1zYkia5"
      },
      "source": [
        "## **Creazione del modello**\n",
        "Vediamo ora come creare il modello utilizzando gli iperparametri appena impostati . Richiamando la funzione **UNet(...)** definita in precedenza è possibile istanziare un modello della U-Net mentre, con il metodo [**compile(...)**](https://keras.io/models/model/#compile) della classe [**Model**](https://keras.io/models/model/) si configura il modello per il training dati in input:\n",
        "- l'optimizer (*optimizer*);\n",
        "- la *loss* (*loss_function*);\n",
        "- le metriche che si vogliono monitorare durante il training (nel nostro caso l'accuratezza e l'indice di *Jaccard*).\n",
        "\n",
        "<u>Nota:</u> prima di eseguire la cella sottostante assicurarsi di aver eseguito la cella precedente altrimenti gli iperparametri non saranno dichiarati."
      ]
    },
    {
      "cell_type": "code",
      "metadata": {
        "id": "E7m4jw0vW2Dx"
      },
      "source": [
        "# Creazione del modello\n",
        "model = UNet(train_x[0].shape,block_filter_count)\n",
        "\n",
        "# Configura il modello per il training\n",
        "model.compile(optimizer=optimizer, loss=loss_function, metrics=['acc',jaccard_index])"
      ],
      "execution_count": null,
      "outputs": []
    },
    {
      "cell_type": "markdown",
      "metadata": {
        "id": "HpAYTBHGnwjv"
      },
      "source": [
        "### **Visualizzazione del modello**\n",
        "Eseguendo la cella seguente è possibile stampare un riepilogo testuale della struttura della rete."
      ]
    },
    {
      "cell_type": "code",
      "metadata": {
        "id": "9NDlmPovnwyX"
      },
      "source": [
        "model.summary()"
      ],
      "execution_count": null,
      "outputs": []
    },
    {
      "cell_type": "markdown",
      "metadata": {
        "id": "KprflEJPoKBT"
      },
      "source": [
        "Se si preferisce una visualizzazione grafica, eseguire la cella seguente."
      ]
    },
    {
      "cell_type": "code",
      "metadata": {
        "id": "IP6ItdkJoOzo"
      },
      "source": [
        "tf.keras.utils.plot_model(model,show_shapes=True, show_layer_names=True)"
      ],
      "execution_count": null,
      "outputs": []
    },
    {
      "cell_type": "markdown",
      "metadata": {
        "id": "3WbXyaF5cTde"
      },
      "source": [
        "# **Training**\n",
        "Ora siamo pronti per l'addestramento della U-Net utilizzando le immagini e le maschere del training set (*train_x* e *train_y*) per un numero di epoche pari a *epoch_count* utilizzando *minibatch* di dimensione *batch_size*. Durante l'addestramento le prestazioni della rete verranno valutate anche sul validation set (*validation_x* e *validation_y*).\n",
        "\n",
        "<u>Nota:</u> *batch_size* dovrebbe essere un divisore del numero di immagini contenute nel training set per evitare che alcune di esse non vengano utilizzate."
      ]
    },
    {
      "cell_type": "code",
      "metadata": {
        "id": "TlJHy7LiJbZq"
      },
      "source": [
        "# Numero di epoche di addestramento\n",
        "epoch_count=5\n",
        "\n",
        "# Numero di pattern all'interno di ogni minibatch\n",
        "batch_size=50"
      ],
      "execution_count": null,
      "outputs": []
    },
    {
      "cell_type": "markdown",
      "metadata": {
        "id": "l9ohaF_NJcvt"
      },
      "source": [
        "Nella cella seguente viene richiamato il metodo [**fit(...)**](https://keras.io/models/model/#fit) che esegue l'intera fase di addestramento in maniera automatica monitorando costantemente la *loss function* e le metriche impostate in fase di configurazione del modello su training e validation set.\n",
        "\n",
        "<u>Nota:</u> prima di eseguire la cella sottostante assicurarsi di aver eseguito la cella precedente altrimenti le variabili *epoch_count* e *batch_size* non saranno dichiarate.\n"
      ]
    },
    {
      "cell_type": "code",
      "metadata": {
        "id": "EO-M8QmhcVkA"
      },
      "source": [
        "history=model.fit(train_x,train_y,validation_data=(validation_x,validation_y),batch_size=batch_size,epochs=epoch_count,verbose=1)"
      ],
      "execution_count": null,
      "outputs": []
    },
    {
      "cell_type": "markdown",
      "source": [
        "Il metodo **fit(...)** restituisce un oggetto (*history*) che contiene per ogni epoca i valori della *loss function*, dell'accuratezza e dell'indice di *Jaccard* (impostate nel metodo **compile(...)**) sia per il training sia per il validation set.\n",
        "\n",
        "Eseguire la cella seguente per graficare tali valori."
      ],
      "metadata": {
        "id": "Df6eVcy3hFsc"
      }
    },
    {
      "cell_type": "code",
      "source": [
        "indicator_list=['loss','acc','jaccard_index']\n",
        "\n",
        "_, axs = plt.subplots(1,len(indicator_list),figsize=(8*len(indicator_list),5))\n",
        "\n",
        "for idx,indicator in enumerate(indicator_list):\n",
        "  minVal=min(np.amin(history.history[indicator]),np.amin(history.history['val_'+indicator]))\n",
        "  maxVal=min(np.amax(history.history[indicator]),np.amax(history.history['val_'+indicator]))\n",
        "  axs[idx].plot(range(1,epoch_count+1),history.history[indicator],'r--',label='Train')\n",
        "  axs[idx].plot(range(1,epoch_count+1),history.history['val_'+indicator],'b-',label='Val')\n",
        "  axs[idx].set_xlabel('Epoch')\n",
        "  axs[idx].set_ylabel(indicator)\n",
        "  axs[idx].set_ylim([minVal*0.8,maxVal*1.2])\n",
        "  axs[idx].legend(loc='upper right')"
      ],
      "metadata": {
        "id": "wYrVU2uJcc2j"
      },
      "execution_count": null,
      "outputs": []
    },
    {
      "cell_type": "markdown",
      "metadata": {
        "id": "fZhOH3g_icL2"
      },
      "source": [
        "## **Salvataggio del modello migliore**\n",
        "Per salvare il modello è possibile utilizzare il metodo [**save(...)**](https://keras.io/getting-started/faq/#how-can-i-save-a-keras-model) dandogli in input il percorso in cui salvare il modello. Eseguendo la cella sottostante il modello verrà salvato in remoto su Colab."
      ]
    },
    {
      "cell_type": "code",
      "metadata": {
        "id": "j0MFKHEeieMT"
      },
      "source": [
        "model.save('/content/UNetW.h5')"
      ],
      "execution_count": null,
      "outputs": []
    },
    {
      "cell_type": "markdown",
      "metadata": {
        "id": "6bCOy-tL-teL"
      },
      "source": [
        "Utilizzare il metodo **keras.models.load_model(...)** per poter caricare un modello precedentemente salvato.\n",
        "\n",
        "<u>Nota:</u> se il modello salvato conteneva delle metriche aggiuntive (es. indice di *Jaccard*) in fase di caricamento si dovranno passare queste metriche in maniera esplicita."
      ]
    },
    {
      "cell_type": "code",
      "metadata": {
        "id": "EHTCyZLy_DB-"
      },
      "source": [
        "dependencies = {'jaccard_index': jaccard_index}\n",
        "loaded_model=keras.models.load_model('/content/UNetW.h5',custom_objects=dependencies)"
      ],
      "execution_count": null,
      "outputs": []
    },
    {
      "cell_type": "markdown",
      "metadata": {
        "id": "joTFLn2IeSKA"
      },
      "source": [
        "# **Valutazione delle prestazioni sul validation set**\n",
        "Per eseguire la segmentazione utilizzare il metodo **predict(...)** passandogli in input le immagini da analizzare. Il metodo restituirà un array di segmentation map, una per ogni immagine di input."
      ]
    },
    {
      "cell_type": "code",
      "metadata": {
        "id": "hIIQTD4MeUAd"
      },
      "source": [
        "validation_y_preds=model.predict(validation_x)\n",
        "print('Shape prediction map: ',validation_y_preds.shape)\n",
        "print('Tipo prediction map: ',validation_y_preds.dtype)"
      ],
      "execution_count": null,
      "outputs": []
    },
    {
      "cell_type": "markdown",
      "metadata": {
        "id": "zLlsCFI1sejv"
      },
      "source": [
        "## **Selezione della soglia di binarizzazione ottimale**\n",
        "Ogni elemento di una prediction map riporta la probabilità che il corrispondente pixel dell'immagine di input appartenga al foreground.\n",
        "\n",
        "Prima di poter confrontare le prediction map con il ground truth sarà necessario binarizzarle. Per farlo la soluzione più semplice è quella di utilizzare una soglia per decidere la classe di appartenenza di ogni pixel. Ovviamente, le prestazioni della rete varieranno al variare della soglia di binarizzazione utilizzata per cui la scelta della soglia ottima è importante al fine di valutare le prestazioni finali del sistema.\n",
        "\n",
        "Eseguendo la cella sottostante sarà calcolata l'accuratezza e l'indice di *Jaccard* sul validation set al variare della soglia di binarizzazione utilizzata."
      ]
    },
    {
      "cell_type": "code",
      "metadata": {
        "id": "qucR3Hsrsu1J"
      },
      "source": [
        "print('Thr\\tAcc\\tJac')\n",
        "\n",
        "# Range delle possibili soglie di binarizzazione\n",
        "for bin_thr in np.arange(0.0, 1.0, 0.1):\n",
        "  # Binarizzazione delle prediction map utilizzando la soglia corrente\n",
        "  thr_bin_y_preds=(validation_y_preds>=bin_thr).astype(np.int64)\n",
        "  thr_acc_scores=[]\n",
        "  thr_jac_scores=[]\n",
        "  for i in range(validation_y_preds.shape[0]):\n",
        "    acc_score=sklearn.metrics.accuracy_score(validation_y[i].ravel(),thr_bin_y_preds[i].ravel())\n",
        "    if (np.sum(validation_y[i])!=0 or np.sum(thr_bin_y_preds[i])!=0):\n",
        "      jac_score=sklearn.metrics.jaccard_score(validation_y[i].ravel(),thr_bin_y_preds[i].ravel())\n",
        "    else:\n",
        "      jac_score=1\n",
        "    thr_acc_scores.append(acc_score)\n",
        "    thr_jac_scores.append(jac_score)\n",
        "\n",
        "  print('%.2f\\t%.4f\\t%.4f' % (bin_thr,sum(thr_acc_scores)/len(thr_acc_scores),sum(thr_jac_scores)/len(thr_jac_scores)))"
      ],
      "execution_count": null,
      "outputs": []
    },
    {
      "cell_type": "markdown",
      "metadata": {
        "id": "Mfl7DjFQ9hAE"
      },
      "source": [
        "## **Visualizzazione dei migliori risultati**\n",
        "Eseguendo la cella sottostante sarà possibile visualizzare le migliori prediction map ottenute dal modello.\n",
        "\n",
        "Prima di eseguire la cella ricordarsi di impostare i seguenti parametri:\n",
        "- la soglia di binarizzazione ottimale trovata al passo precedente (*validation_bin_thr*);\n",
        "- la metrica da utilizzare per selezionare le migliori prediction map (*validation_metric* - 'Acc' per accuratezza e 'Jac' per indice di *Jaccard*);\n",
        "- il numero di immagini che si vuole visualizzare (*validation_image_to_show*)."
      ]
    },
    {
      "cell_type": "code",
      "metadata": {
        "id": "v-2zhK8A9kcV"
      },
      "source": [
        "validation_bin_thr=0.5       # Soglia di binarizzazione ottima individuata al passo precedente\n",
        "validation_metric='Acc'      # Metrica utilizzata per ordinare i risultati 'Acc' o 'Jac'\n",
        "validation_image_to_show=10  # Numero di risultati da visualizzare\n",
        "\n",
        "validation_bin_y_preds=(validation_y_preds>=validation_bin_thr).astype(np.int64)\n",
        "\n",
        "validation_scores=[]\n",
        "for i in range(validation_y_preds.shape[0]):\n",
        "    if (validation_metric=='Acc'):\n",
        "      score=sklearn.metrics.accuracy_score(validation_y[i].ravel(),validation_bin_y_preds[i].ravel())\n",
        "    elif (validation_metric=='Jac'):\n",
        "      if (np.sum(validation_y[i])!=0 or np.sum(validation_bin_y_preds[i])!=0):\n",
        "        score=sklearn.metrics.jaccard_score(validation_y[i].ravel(),validation_bin_y_preds[i].ravel())\n",
        "      else:\n",
        "        score=1.0\n",
        "    validation_scores.append((i,score))\n",
        "\n",
        "validation_scores.sort(key=lambda elem: elem[1],reverse=True)\n",
        "\n",
        "_, axs = plt.subplots(validation_image_to_show, 4,figsize=(10, 3*validation_image_to_show))\n",
        "for i in range(validation_image_to_show):\n",
        "  image_idx=validation_scores[i][0]\n",
        "  axs[i,0].imshow(validation_x[image_idx]),axs[i,0].axis('off'),axs[i,0].set_title('%d: %.3f'%(image_idx,validation_scores[i][1]))\n",
        "  axs[i,1].imshow(np.squeeze(validation_y[image_idx],axis=2),cmap='gray'),axs[i,1].axis('off'),axs[i,1].set_title('Mask')\n",
        "  axs[i,2].imshow(np.squeeze(validation_bin_y_preds[image_idx],axis=2),cmap='gray',vmin=0,vmax=1),axs[i,2].axis('off'),axs[i,2].set_title('Bin prediction map')\n",
        "  axs[i,3].imshow(np.squeeze(validation_y_preds[image_idx],axis=2),cmap='gray',vmin=0,vmax=1),axs[i,3].axis('off'),axs[i,3].set_title('Prediction map')"
      ],
      "execution_count": null,
      "outputs": []
    },
    {
      "cell_type": "markdown",
      "metadata": {
        "id": "jbvdDpooC2-s"
      },
      "source": [
        "## **Visualizzazione dei peggiori risultati**\n",
        "In maniera analoga, eseguendo la cella sottostante sarà possibile visualizzare le peggiori prediction map ottenute dal modello.\n",
        "\n",
        "<u>Nota:</u> Saranno utilizzati gli stessi parametri impostati nella cella precedente."
      ]
    },
    {
      "cell_type": "code",
      "metadata": {
        "id": "mTjBz1MmC-eZ"
      },
      "source": [
        "validation_scores.sort(key=lambda elem: elem[1])\n",
        "\n",
        "_, axs = plt.subplots(validation_image_to_show, 4,figsize=(10, 3*validation_image_to_show))\n",
        "for i in range(validation_image_to_show):\n",
        "  image_idx=validation_scores[i][0]\n",
        "  axs[i,0].imshow(validation_x[image_idx]),axs[i,0].axis('off'),axs[i,0].set_title('%d: %.3f'%(image_idx,validation_scores[i][1]))\n",
        "  axs[i,1].imshow(np.squeeze(validation_y[image_idx],axis=2),cmap='gray'),axs[i,1].axis('off'),axs[i,1].set_title('Mask')\n",
        "  axs[i,2].imshow(np.squeeze(validation_bin_y_preds[image_idx],axis=2),cmap='gray',vmin=0,vmax=1),axs[i,2].axis('off'),axs[i,2].set_title('Bin prediction map')\n",
        "  axs[i,3].imshow(np.squeeze(validation_y_preds[image_idx],axis=2),cmap='gray',vmin=0,vmax=1),axs[i,3].axis('off'),axs[i,3].set_title('Prediction map')"
      ],
      "execution_count": null,
      "outputs": []
    },
    {
      "cell_type": "markdown",
      "metadata": {
        "id": "f2ilj-7GETko"
      },
      "source": [
        "# **Ottimizzazione degli iperparametri**\n",
        "Ripetere la fase di addestramento e valutazione più volte per individuare un insieme di iperparametri ottimali. Si consiglia di intervenire sui seguenti iperparametri (in ordine di priorità):\n",
        "1. il numero di filtri da utilizzare in ogni blocco di *downsampling* e di *upsampling* (*block_filter_count*);\n",
        "2. il numero di epoche di addestramento (*epoch_count*);\n",
        "3. l'ottimizzatore (*optimizer*) utilizzato dalla rete per implementare la *back propagation*. [Keras](https://keras.io/api/optimizers/#available-optimizers) mette a disposizione gli ottimizzatori più comuni;\n",
        "4. i singoli parametri dell'ottimizzatore (es. *learning rate*);\n",
        "5. il numero di pattern all'interno di ogni *minibatch* (*batch_size*);\n",
        "6. la soglia di binarizzazione delle segmentation map (*optimal_bin_thr*)."
      ]
    },
    {
      "cell_type": "markdown",
      "metadata": {
        "id": "ZqiWkB6I5Dtb"
      },
      "source": [
        "# **Valutazione delle prestazioni sul test set**\n",
        "Misurare le prestazioni sul dataset di test della miglior soluzione ottenuta per verificarne l'effettiva capacità di generalizzazione."
      ]
    },
    {
      "cell_type": "markdown",
      "metadata": {
        "id": "Cj_3iQBVApL9"
      },
      "source": [
        "## **Test set**\n",
        "Eseguendo la cella sottostante il dataset di test sarà caricato in memoria."
      ]
    },
    {
      "cell_type": "code",
      "metadata": {
        "id": "yMRd57UY5EDB"
      },
      "source": [
        "db_path='/content/Test'\n",
        "image_ext='.bmp'\n",
        "\n",
        "# Caricamento delle immagini\n",
        "print('Caricamento in corso ...')\n",
        "test_x,test_y=vr_utilities.load_image_dataset_with_masks(db_path+'/Images',db_path+'/Masks','*'+image_ext)\n",
        "\n",
        "# Normalizzazione\n",
        "test_x=(test_x/255)\n",
        "test_y=(test_y/255)\n",
        "test_x=test_x.astype(np.float32)\n",
        "test_y=test_y.astype(np.float32)\n",
        "\n",
        "print('Shape immagini di test: ',test_x.shape)\n",
        "print('Shape maschere di test: ',test_y.shape)"
      ],
      "execution_count": null,
      "outputs": []
    },
    {
      "cell_type": "markdown",
      "metadata": {
        "id": "A9g6Eaz-Q6tt"
      },
      "source": [
        "Eseguendo la cella sottostante verrà visualizzata un'immagine del test set scelta casualmente (con la rispettiva maschera)."
      ]
    },
    {
      "cell_type": "code",
      "metadata": {
        "id": "u5VrsWqiRAHJ"
      },
      "source": [
        "# Visualizzazione di un'immagine casuale\n",
        "random_idx=random.randint(0,test_x.shape[0])\n",
        "_, axs = plt.subplots(1, 2,figsize=(10, 5))\n",
        "axs[0].imshow(test_x[random_idx]),axs[0].axis('off'),axs[0].set_title('Image')\n",
        "axs[1].imshow(np.squeeze(test_y[random_idx],axis=2),cmap='gray'),axs[1].axis('off'),axs[1].set_title('Mask')\n",
        "plt.show()"
      ],
      "execution_count": null,
      "outputs": []
    },
    {
      "cell_type": "markdown",
      "metadata": {
        "id": "gB-6X8GrUzx6"
      },
      "source": [
        "## **Stima delle prediction map**\n",
        "Eseguendo la cella sottostante si segmenteranno le immagini del test set utilizzando il modello attuale (*model*).\n",
        "\n",
        "<u>Nota:</u> prima di eseguire la cella assicurarsi che la variabile *model* contenga la rete ottenuta utilizzando gli iperparametri ottimi."
      ]
    },
    {
      "cell_type": "code",
      "metadata": {
        "id": "UaNYVOmBU0FI"
      },
      "source": [
        "test_y_preds=model.predict(test_x)\n",
        "print('Shape prediction map: ',test_y_preds.shape)\n",
        "print('Tipo prediction map: ',test_y_preds.dtype)"
      ],
      "execution_count": null,
      "outputs": []
    },
    {
      "cell_type": "markdown",
      "metadata": {
        "id": "r-KfnYGH55f-"
      },
      "source": [
        "## **Calcolo delle prestazioni**\n",
        "Eseguendo la cella sottostante sarà calcolata l'accuratezza e l'indice di *Jaccard* sul test set utilizzando la soglia di binarizzazione ottimale individuata in fase di addestramento.\n",
        "\n",
        "<u>Nota:</u> prima di eseguire la cella assicurarsi di avere impostato correttamente la soglia di binarizzazione ottimale (*optimal_bin_thr*)."
      ]
    },
    {
      "cell_type": "code",
      "metadata": {
        "id": "E3Q59zkH55p6"
      },
      "source": [
        "# Soglia di binarizzazione ottimale\n",
        "optimal_bin_thr=0.5\n",
        "\n",
        "# Binarizzazione delle prediction map utilizzando la soglia ottimale\n",
        "test_bin_y_preds=(test_y_preds>=optimal_bin_thr).astype(np.int64)\n",
        "\n",
        "test_acc_scores=[]\n",
        "test_jac_scores=[]\n",
        "for i in range(test_y_preds.shape[0]):\n",
        "  acc_score=sklearn.metrics.accuracy_score(test_y[i].ravel(),test_bin_y_preds[i].ravel())\n",
        "  if (np.sum(test_y[i])!=0 or np.sum(test_bin_y_preds[i])!=0):\n",
        "    jac_score=sklearn.metrics.jaccard_score(test_y[i].ravel(),test_bin_y_preds[i].ravel())\n",
        "  else:\n",
        "    jac_score=1\n",
        "  test_acc_scores.append(acc_score)\n",
        "  test_jac_scores.append(jac_score)\n",
        "\n",
        "print('Acc: %.4f Jac: %.4f'%(sum(test_acc_scores)/len(test_acc_scores),sum(test_jac_scores)/len(test_jac_scores)))"
      ],
      "execution_count": null,
      "outputs": []
    },
    {
      "cell_type": "markdown",
      "metadata": {
        "id": "N8W4DWJMD4xH"
      },
      "source": [
        "## **Visualizza dei migliori risultati**\n",
        "Eseguendo la cella sottostante sarà possibile visualizzare le migliori prediction map ottenute dal modello.\n",
        "\n",
        "Prima di eseguire la cella ricordarsi di impostare i seguenti parametri:\n",
        "- la metrica da utilizzare per selezionare le migliori prediction map (*test_metric* - 'Acc' per accuratezza e 'Jac' per indice di Jaccard);\n",
        "- il numero di immagini che si vuole visualizzare (*test_image_to_show*)."
      ]
    },
    {
      "cell_type": "code",
      "metadata": {
        "id": "Q8Ya3xWpD4-d"
      },
      "source": [
        "test_metric='Acc'     # Metrica utilizzata per ordinare i risultati 'Acc' o 'Jac'\n",
        "test_image_to_show=10 # Numero di risultati da visualizzare\n",
        "\n",
        "test_scores=[]\n",
        "for i in range(test_y_preds.shape[0]):\n",
        "    if (test_metric=='Acc'):\n",
        "      score=sklearn.metrics.accuracy_score(test_y[i].ravel(),test_bin_y_preds[i].ravel())\n",
        "    elif (test_metric=='Jac'):\n",
        "      if (np.sum(test_y[i])!=0 or np.sum(test_bin_y_preds[i])!=0):\n",
        "        score=sklearn.metrics.jaccard_score(test_y[i].ravel(),test_bin_y_preds[i].ravel())\n",
        "      else:\n",
        "        score=1\n",
        "    test_scores.append((i,score))\n",
        "\n",
        "test_scores.sort(key=lambda elem: elem[1],reverse=True)\n",
        "\n",
        "_, axs = plt.subplots(test_image_to_show, 4,figsize=(10, 3*test_image_to_show))\n",
        "for i in range(test_image_to_show):\n",
        "  image_idx=test_scores[i][0]\n",
        "  axs[i,0].imshow(test_x[image_idx]),axs[i,0].axis('off'),axs[i,0].set_title('%d: %.3f'%(image_idx,test_scores[i][1]))\n",
        "  axs[i,1].imshow(np.squeeze(test_y[image_idx],axis=2),cmap='gray'),axs[i,1].axis('off'),axs[i,1].set_title('Mask')\n",
        "  axs[i,2].imshow(np.squeeze(test_bin_y_preds[image_idx],axis=2),cmap='gray',vmin=0,vmax=1),axs[i,2].axis('off'),axs[i,2].set_title('Bin prediction map')\n",
        "  axs[i,3].imshow(np.squeeze(test_y_preds[image_idx],axis=2),cmap='gray',vmin=0,vmax=1),axs[i,3].axis('off'),axs[i,3].set_title('Prediction map')"
      ],
      "execution_count": null,
      "outputs": []
    },
    {
      "cell_type": "markdown",
      "metadata": {
        "id": "ZAj0ALDBWhcO"
      },
      "source": [
        "## **Visualizzazione dei peggiori risultati**\n",
        "In maniera analoga, eseguendo la cella sottostante sarà possibile visualizzare le peggiori prediction map ottenute dal modello.\n",
        "\n",
        "<u>Nota:</u> Saranno utilizzati gli stessi parametri impostati nella cella precedente."
      ]
    },
    {
      "cell_type": "code",
      "metadata": {
        "id": "m3PEfwTqWh0M"
      },
      "source": [
        "test_scores.sort(key=lambda elem: elem[1])\n",
        "\n",
        "_, axs = plt.subplots(test_image_to_show, 4,figsize=(10, 3*test_image_to_show))\n",
        "for i in range(test_image_to_show):\n",
        "  image_idx=test_scores[i][0]\n",
        "  axs[i,0].imshow(test_x[image_idx]),axs[i,0].axis('off'),axs[i,0].set_title('%d: %.3f'%(image_idx,test_scores[i][1]))\n",
        "  axs[i,1].imshow(np.squeeze(test_y[image_idx],axis=2),cmap='gray'),axs[i,1].axis('off'),axs[i,1].set_title('Mask')\n",
        "  axs[i,2].imshow(np.squeeze(test_bin_y_preds[image_idx],axis=2),cmap='gray',vmin=0,vmax=1),axs[i,2].axis('off'),axs[i,2].set_title('Bin prediction map')\n",
        "  axs[i,3].imshow(np.squeeze(test_y_preds[image_idx],axis=2),cmap='gray',vmin=0,vmax=1),axs[i,3].axis('off'),axs[i,3].set_title('Prediction map')"
      ],
      "execution_count": null,
      "outputs": []
    }
  ]
}