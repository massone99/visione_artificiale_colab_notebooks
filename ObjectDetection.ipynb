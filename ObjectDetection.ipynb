{
  "nbformat": 4,
  "nbformat_minor": 0,
  "metadata": {
    "kernelspec": {
      "name": "python3",
      "display_name": "Python 3"
    },
    "language_info": {
      "codemirror_mode": {
        "name": "ipython",
        "version": 3
      },
      "file_extension": ".py",
      "mimetype": "text/x-python",
      "name": "python",
      "nbconvert_exporter": "python",
      "pygments_lexer": "ipython3",
      "version": "3.5.3"
    },
    "colab": {
      "private_outputs": true,
      "provenance": [],
      "gpuType": "T4",
      "include_colab_link": true
    },
    "accelerator": "GPU"
  },
  "cells": [
    {
      "cell_type": "markdown",
      "metadata": {
        "id": "view-in-github",
        "colab_type": "text"
      },
      "source": [
        "<a href=\"https://colab.research.google.com/github/massone99/visione_artificiale_colab_notebooks/blob/main/ObjectDetection.ipynb\" target=\"_parent\"><img src=\"https://colab.research.google.com/assets/colab-badge.svg\" alt=\"Open In Colab\"/></a>"
      ]
    },
    {
      "cell_type": "markdown",
      "metadata": {
        "id": "8-_n4GkUB5f6"
      },
      "source": [
        "# **Esercitazione su object detection**\n",
        "Nell'esercitazione odierna utilizzeremo l'architettura YOLO per rilevare i pezzi degli scacchi nelle immagini del database [Chess Pieces Dataset](https://public.roboflow.com/object-detection/chess-full).\n",
        "\n",
        "Faremo uso del framework **TensorFlow**, sfruttando la libreria open-source **Keras** appositamente progettata per permettere una rapida prototipazione di reti neurali profonde."
      ]
    },
    {
      "cell_type": "markdown",
      "metadata": {
        "id": "mEVVD4aeBmZc"
      },
      "source": [
        "# **Operazioni preliminari**\n",
        "Eseguendo la cella sottostante tutto il materiale necessario per lo svolgimento dell'esercitazione verrà scaricato sulla macchina remota. Alla fine dell'esecuzione selezionare il tab **Files** per verificare che tutto sia stato scaricato correttamente."
      ]
    },
    {
      "cell_type": "code",
      "metadata": {
        "id": "ajDToNkY_fJw"
      },
      "source": [
        "!wget http://bias.csr.unibo.it/VR/Esercitazioni/DBs/ObjectDetection/ChessPiecesDataset_416x416_aug.zip\n",
        "\n",
        "!unzip -q /content/ChessPiecesDataset_416x416_aug.zip\n",
        "\n",
        "!rm /content/ChessPiecesDataset_416x416_aug.zip"
      ],
      "execution_count": null,
      "outputs": []
    },
    {
      "cell_type": "markdown",
      "source": [
        "## **KerasCV**\n",
        "La libreria [**KerasCV**](https://keras.io/keras_cv/) mette a disposizione componenti specifiche per svolgere task di *Computer Vision* come modelli pre-addestrati, metriche e layer.\n",
        "\n",
        "La cella seguente permette di installare l'ultima versione di KerasCV."
      ],
      "metadata": {
        "id": "12k_QoOP5JAq"
      }
    },
    {
      "cell_type": "code",
      "source": [
        "!pip install --upgrade -q git+https://github.com/keras-team/keras-cv"
      ],
      "metadata": {
        "id": "Ef3zCUGJ5Jyh"
      },
      "execution_count": null,
      "outputs": []
    },
    {
      "cell_type": "markdown",
      "metadata": {
        "id": "546SZyys-agu"
      },
      "source": [
        "# **Import delle librerie**\n",
        "Per prima cosa è necessario eseguire l'import delle librerie utilizzate durante l'esecitazione."
      ]
    },
    {
      "cell_type": "code",
      "metadata": {
        "id": "tTTxQ1My-agx"
      },
      "source": [
        "import os\n",
        "import tensorflow as tf\n",
        "import numpy as np\n",
        "import keras_cv\n",
        "import cv2\n",
        "import random\n",
        "import math\n",
        "from tensorflow import keras\n",
        "from matplotlib import pyplot as plt\n",
        "import matplotlib.image as mpimg"
      ],
      "execution_count": null,
      "outputs": []
    },
    {
      "cell_type": "markdown",
      "source": [
        "# **Functioni di utilità**\n",
        "Tramite la cella sottostante è possibile definire alcune funzioni di utilità usate durante l'esercitazione:\n",
        "- **plot_images_with_xywh_bounding_boxes** visualizza un *mini-batch* di immagini con le corrispondenti *bounding box*;\n",
        "- **plot_images_with_y_preds** visulizza un *mini-batch* di immagini con le corrispondenti *prediction*;\n",
        "- **parse_yolov8_annotation** legge da un file di testo le annotazioni di un'immagine nel formato YOLOv8;\n",
        "- **load_dataset_info** carica in memoria i percorsi assoluti di tutte le immagini e le rispettive annotazioni di un dataset;\n",
        "- **from_rel_xywh_to_xywh** converte le annotazioni dal formato relativo al formato assoluto date in input le dimensioni delle immagini;\n",
        "- **load_dataset_element** carica in memoria un'immagine dato in input il percorso in cui è memorizzara e la associa alle corrispondenti *bounding box*;\n",
        "- **prepare_dataset** prepara il dataset dato in input caricando le immangini e applicando alcune operazioni di preprocessing tra cui il ridimensionamento delle immagini alle dimensioni di input del modello;\n",
        "- **plot_history** visualizza il grafico delle loss sui dataset di training e validation;\n",
        "- **compute_mean_average_precision** calcola la *mean Average Precision* (mAP) date in input le *bounding box* vere e quelle predette dalla rete."
      ],
      "metadata": {
        "id": "FnUhLWmDTL-9"
      }
    },
    {
      "cell_type": "code",
      "source": [
        "def plot_images_with_xywh_bounding_boxes(images,boxes,class_ids,class_labels,image_per_row=4,show_labels=True,confidences=None):\n",
        "  class_colors = plt.cm.hsv(np.linspace(0, 1, len(class_labels)+1)).tolist()\n",
        "\n",
        "  image_count=len(images)\n",
        "  row_count=math.ceil(image_count/image_per_row)\n",
        "  col_count=image_per_row\n",
        "\n",
        "  _, axs = plt.subplots(nrows=row_count, ncols=col_count,figsize=(18, 4*row_count),squeeze=False)\n",
        "  for r in range(row_count):\n",
        "      for c in range(col_count):\n",
        "        axs[r,c].axis('off')\n",
        "\n",
        "  for i in range(image_count):\n",
        "    r = i // image_per_row\n",
        "    c = i % image_per_row\n",
        "\n",
        "    axs[r,c].imshow(images[i])\n",
        "    for box_idx in range(len(boxes[i])):\n",
        "        box=boxes[i][box_idx]\n",
        "        class_idx=class_ids[i][box_idx]\n",
        "        color =class_colors[class_idx]\n",
        "        xmin=box[0]\n",
        "        ymin=box[1]\n",
        "        w=box[2]\n",
        "        h=box[3]\n",
        "        axs[r,c].add_patch(plt.Rectangle((xmin,ymin), w, h, color=color, fill=False, linewidth=2))\n",
        "        if show_labels:\n",
        "          label ='{}'.format(class_labels[class_idx])\n",
        "          if confidences is not None:\n",
        "            label+=' {:.2f}'.format(confidences[i][box_idx])\n",
        "          axs[r,c].text(xmin, ymin, label, size='large', color='white', bbox={'facecolor':color, 'alpha':1.0})\n",
        "\n",
        "def plot_images_with_y_preds(images,y_preds,class_labels,image_per_row=4,show_labels=True):\n",
        "  image_count=images.shape[0]\n",
        "  plot_images_with_xywh_bounding_boxes(images,\n",
        "                                      [y_preds['boxes'][i,:y_preds['num_detections'][i]] for i in range(image_count)],\n",
        "                                      [y_preds['classes'][i,:y_preds['num_detections'][i]] for i in range(image_count)],\n",
        "                                      class_labels,\n",
        "                                      image_per_row=image_per_row,\n",
        "                                      show_labels=show_labels,\n",
        "                                      confidences=[y_preds['confidence'][i,:y_preds['num_detections'][i]] for i in range(image_count)])\n",
        "\n",
        "def parse_yolov8_annotation(txt_file):\n",
        "    yolov8_boxes = []\n",
        "    class_ids = []\n",
        "    with open(txt_file) as file:\n",
        "      for line in file:\n",
        "        splitted_line = line.split()\n",
        "        class_ids.append(int(splitted_line[0]))\n",
        "        rcx = float(splitted_line[1])\n",
        "        rcy = float(splitted_line[2])\n",
        "        rw = float(splitted_line[3])\n",
        "        rh = float(splitted_line[4])\n",
        "        rxmin=rcx-rw/2\n",
        "        rymin=rcy-rh/2\n",
        "        yolov8_boxes.append([rxmin, rymin, rw, rh]) #rel_xywh\n",
        "\n",
        "    return yolov8_boxes, class_ids\n",
        "\n",
        "def load_dataset_info(txt_file_list,image_path):\n",
        "  image_path_list = []\n",
        "  image_yolov8_box_list = []\n",
        "  image_class_id_list = []\n",
        "  for txt_file in txt_file_list:\n",
        "      yolov8_boxes, class_ids = parse_yolov8_annotation(txt_file)\n",
        "      image_path_list.append(image_path+os.path.basename(os.path.splitext(txt_file)[0])+'.jpg')\n",
        "      image_yolov8_box_list.append(yolov8_boxes)\n",
        "      image_class_id_list.append(class_ids)\n",
        "\n",
        "  return image_path_list,image_yolov8_box_list,image_class_id_list\n",
        "\n",
        "def from_rel_xywh_to_xywh(dataset_rel_xywh_bboxes,image_shape):\n",
        "  image_height=image_shape[0]\n",
        "  image_width=image_shape[1]\n",
        "\n",
        "  dataset_xywh_bboxes=[]\n",
        "  for image_bboxes in dataset_rel_xywh_bboxes:\n",
        "    image_xywh_bboxes=[]\n",
        "    for image_bbox in image_bboxes:\n",
        "      xmin=image_bbox[0]*image_width\n",
        "      ymin=image_bbox[1]*image_height\n",
        "      w=image_bbox[2]*image_width\n",
        "      h=image_bbox[3]*image_height\n",
        "      image_xywh_bboxes.append([xmin, ymin, w, h])\n",
        "    dataset_xywh_bboxes.append(image_xywh_bboxes)\n",
        "\n",
        "  return dataset_xywh_bboxes\n",
        "\n",
        "def load_dataset_element(image_path, bboxes,classes):\n",
        "    image = tf.io.read_file(image_path)\n",
        "    image = tf.image.decode_jpeg(image, channels=3)\n",
        "    bounding_boxes = {\n",
        "        'classes': tf.cast(classes, dtype=tf.float32),\n",
        "        'boxes': bboxes,\n",
        "    }\n",
        "    return {'images': tf.cast(image, tf.float32), 'bounding_boxes': bounding_boxes}\n",
        "\n",
        "def prepare_dataset(dataset,batch_size,model_input_size):\n",
        "  resizer = keras.Sequential(layers=[keras_cv.layers.Resizing(model_input_size,model_input_size,pad_to_aspect_ratio=True,bounding_box_format='xywh')])\n",
        "\n",
        "  ds = dataset.map(load_dataset_element, num_parallel_calls=tf.data.AUTOTUNE)\n",
        "  ds = ds.shuffle(dataset.cardinality())\n",
        "  ds = ds.ragged_batch(batch_size, drop_remainder=True)\n",
        "  ds = ds.map(resizer, num_parallel_calls=tf.data.AUTOTUNE)\n",
        "  ds = ds.map(lambda inputs: (inputs['images'], inputs['bounding_boxes']), num_parallel_calls=tf.data.AUTOTUNE)\n",
        "  ds = ds.prefetch(tf.data.AUTOTUNE)\n",
        "  return ds\n",
        "\n",
        "def plot_history(history):\n",
        "  fig, ax1 = plt.subplots(figsize=(10, 8))\n",
        "\n",
        "  epoch_count=len(history.history['loss'])\n",
        "\n",
        "  line1,=ax1.plot(range(1,epoch_count+1),history.history['loss'],label='train_loss',color='orange')\n",
        "  ax1.plot(range(1,epoch_count+1),history.history['val_loss'],label='val_loss',color = line1.get_color(), linestyle = '--')\n",
        "  ax1.set_xlim([1,epoch_count])\n",
        "  ax1.set_ylim([0, max(max(history.history['loss']),max(history.history['val_loss']))])\n",
        "  ax1.set_ylabel('loss',color = line1.get_color())\n",
        "  ax1.tick_params(axis='y', labelcolor=line1.get_color())\n",
        "  ax1.set_xlabel('Epochs')\n",
        "  _=ax1.legend(loc='lower left')\n",
        "\n",
        "def compute_mean_average_precision(y_true, y_pred):\n",
        "  coco_metrics=keras_cv.metrics.BoxCOCOMetrics(bounding_box_format='xywh',evaluate_freq=1)\n",
        "  coco_metrics.update_state(y_true, y_pred)\n",
        "  return coco_metrics.result(force=True)['MaP'].numpy()"
      ],
      "metadata": {
        "id": "deM6GsqLTTYl"
      },
      "execution_count": null,
      "outputs": []
    },
    {
      "cell_type": "markdown",
      "source": [
        "#YOLOv8\n",
        "YOLOv8 è l'ultimo modello basato sull'architettura YOLO (*You Only Look Once*) in grado di individuare in tempo reale oggetti multipli all'interno di un'immagine con un elevato livello di accuratezza. Quest'ultima versione è in grado di supportare diversi tipi di *task* tra cui: *detection*, segmentazione e classificazione."
      ],
      "metadata": {
        "id": "XObs6p9l702a"
      }
    },
    {
      "cell_type": "markdown",
      "source": [
        "## **Creazione del modello**\n",
        "Il codice seguente crea un'istanza della classe [**YOLOV8Detector**](https://keras.io/api/keras_cv/models/tasks/yolo_v8_detector/) (che implementa il modello YOLOv8 per svolgere *task* di *object detection*) utilizzando il metodo [**from_preset**](https://keras.io/api/keras_cv/models/tasks/yolo_v8_detector/#frompreset-method) che permette di istanziare un modello con una configurazione predefinita e con pesi pre-addestrati.\n",
        "\n",
        "I parametri *preset* e *load_weights* permettono di caricare i pesi ottenuti utilizzando in fase di addestramento il daset della competizione [**PascalVOC 2012**](http://host.robots.ox.ac.uk/pascal/VOC/voc2012/) contenente immagini RGB con oggetti apartenenti a 20 classi: (*aeroplane*, *bicycle*, *bird*, *boat*, *bottle*, *bus*, *car*, *cat*, *chair*, *cow*, *diningtable*, *dog*, *horse*, *motorbike*, *person*, *pottedplant*, *sheep*, *sofa*, *train*, *tv/monitor*). Con tali pesi il modello è in grado di ottenere una *mean Average Precision* (mAP) pari a 0.45 sul dataset di test della competizione.\n",
        "\n",
        "Il parametro *bounding_box_format* permette di definire il formato di input/output delle *bounding box*. Con la stringa **'xywh'** le *bounding box* saranno rappresentate tramite:\n",
        "- le coordinate in pixel dell'angolo superiore sinistro $(x,y)$;\n",
        "- la larghezza ($w$) e l'altezza  ($h$) in pixel della box.\n"
      ],
      "metadata": {
        "id": "Dw-B_iUXXenA"
      }
    },
    {
      "cell_type": "code",
      "source": [
        "yolov8_detector = keras_cv.models.YOLOV8Detector.from_preset(preset='yolo_v8_m_pascalvoc',load_weights=True,bounding_box_format='xywh')"
      ],
      "metadata": {
        "id": "k0vtQuIt74ib"
      },
      "execution_count": null,
      "outputs": []
    },
    {
      "cell_type": "markdown",
      "source": [
        "## **Visualizzazione del modello**\n",
        "Eseguendo la cella seguente è possibile stampare un riepilogo testuale della struttura del modello appena caricato."
      ],
      "metadata": {
        "id": "MHZeUQ9Z88wk"
      }
    },
    {
      "cell_type": "code",
      "source": [
        "yolov8_detector.summary()"
      ],
      "metadata": {
        "id": "PMZHOQ9w89gq"
      },
      "execution_count": null,
      "outputs": []
    },
    {
      "cell_type": "markdown",
      "source": [
        "Se si preferisce una visualizzazione grafica, eseguire la cella seguente."
      ],
      "metadata": {
        "id": "GieoWbJi9Ujr"
      }
    },
    {
      "cell_type": "code",
      "source": [
        "tf.keras.utils.plot_model(yolov8_detector,show_shapes=True, show_layer_names=True)"
      ],
      "metadata": {
        "id": "dftKgc2N9U0q"
      },
      "execution_count": null,
      "outputs": []
    },
    {
      "cell_type": "markdown",
      "source": [
        "# **Esercizio 1**\n",
        "Utilizzare il modello appena istanziato per individuare gli oggetti presenti su una o più immagini prese dal web.\n",
        "\n",
        "A tal fine:\n",
        "\n",
        "1. scaricare una o più immagini dal web contenenti una o più istanze delle classi del problema (*aeroplane*, *bicycle*, *bird*, *boat*, *bottle*, *bus*, *car*, *cat*, *chair*, *cow*, *diningtable*, *dog*, *horse*, *motorbike*, *person*, *pottedplant*, *sheep*, *sofa*, *train*, *tvmonitor*);\n",
        "2. trasferire le immagini su **Colab** utilizzando la funzione *Upload* del tab **Files**;\n",
        "3. caricare un'immagine nella variabile *my_image* (per farlo utilizzare la funzione [**imread(...)**](https://matplotlib.org/stable/api/_as_gen/matplotlib.pyplot.imread.html) della libreria [**Matplotlib**](https://matplotlib.org/));\n",
        "4. se necessario, riscalare l'immagine così che la dimensione maggiore sia pari alla dimensione di input della rete ($512\\times512$). Per farlo utilizzare la funzione **resize** di OpenCV;\n",
        "5. se necessario, aggiungere un bordo nero alla dimensione minore così da portarla alla dimensione di input della rete ($512\\times512$) senza distorcere l'immagine. Per farlo utilizzare la funzione [**pad**](https://numpy.org/doc/stable/reference/generated/numpy.pad.html) di NumPy;\n",
        "6. creare un *mini-batch* contenente una singola immagine da dare in input alla rete. Per farlo utilizzare la funzione [**expand_dims**](https://numpy.org/doc/stable/reference/generated/numpy.expand_dims.html) di Numpy per aggiungere una dimensione unitaria all'immagine;\n",
        "7. effettuare la *detection* degli oggetti richiamando il metodo [**predict**](https://keras.io/api/models/model_training_apis/#predict-method) del modello e memorizzando l'output nella variabile *my_y_preds*."
      ],
      "metadata": {
        "id": "SwfjT8V_Kghl"
      }
    },
    {
      "cell_type": "code",
      "source": [
        "# Define class labels and model input size\n",
        "class_labels = ['aeroplane', 'bicycle', 'bird', 'boat',\n",
        "                'bottle', 'bus', 'car', 'cat',\n",
        "                'chair', 'cow', 'diningtable', 'dog',\n",
        "                'horse', 'motorbike', 'person', 'pottedplant',\n",
        "                'sheep', 'sofa', 'train', 'tvmonitor']\n",
        "model_input_size = 512\n",
        "\n",
        "# Define image file path\n",
        "image_file_path = \"test_images_for_yolo/\"\n",
        "\n",
        "# Load the original image\n",
        "original_image = mpimg.imread(image_file_path + \"horse_sofa_person.jpg\")\n",
        "\n",
        "# Calcola il rapporto di ridimensionamento\n",
        "max_dimension = 512\n",
        "current_height, current_width = original_image.shape[:2]\n",
        "if current_height > current_width:\n",
        "    scale_factor = max_dimension / current_height\n",
        "else:\n",
        "    scale_factor = max_dimension / current_width\n",
        "\n",
        "# Resize the image\n",
        "resized_image = cv2.resize(original_image, None, fx=scale_factor, fy=scale_factor)\n",
        "\n",
        "# Calculate padding to reach the desired size (512x512)\n",
        "vertical_padding = max(0, max_dimension - resized_image.shape[0])\n",
        "horizontal_padding = max(0, max_dimension - resized_image.shape[1])\n",
        "top_padding = vertical_padding // 2\n",
        "bottom_padding = vertical_padding - top_padding\n",
        "left_padding = horizontal_padding // 2\n",
        "right_padding = horizontal_padding - left_padding\n",
        "\n",
        "# Add black padding\n",
        "padded_image = np.pad(resized_image, ((top_padding, bottom_padding), (left_padding, right_padding), (0, 0)), mode='constant', constant_values=0)\n",
        "\n",
        "# Create a mini-batch containing a single image\n",
        "image_batch = np.expand_dims(padded_image, axis=0)\n",
        "\n",
        "# Perform object detection\n",
        "# Assuming you have already created the yolov8_detector object as mentioned in your previous code\n",
        "my_y_preds = yolov8_detector.predict(image_batch)"
      ],
      "metadata": {
        "id": "lP86_RFdUflG"
      },
      "execution_count": null,
      "outputs": []
    },
    {
      "cell_type": "markdown",
      "source": [
        "## **Output del modello**\n",
        "Eseguendo la cella seguente si può vedere che il modello restituisce un dizionario (**dict**) contenente le chiavi: *boxes*, *confidence*, *classes* e *num_detections*. Ognuna di queste chiavi ha associato un array di NumPy:\n",
        "- *boxes* contiene, per ogni immagine del *mini-batch* di input, un massimo di 100 *bounding box* ognuna rappresentata da 4 valori $(x,y,w,h)$;\n",
        "- *confidence* contiene, per ogni immagine del *mini-batch* di input, un massimo di 100 valori che rappresentano il livello di confidenza con cui la rete ha individuato l'oggetto contenuto nella *bounding box* corrispondente;\n",
        "- *classes* contiene, per ogni immagine del *mini-batch* di input, un massimo di 100 valori che rappresentano l'ID della classe associata all'oggetto  contenuto nella *bounding box* corrispondente;\n",
        "- *num_detections* contiene, per ogni immagine del *mini-batch* di input, il numero di oggetti effettivamente individuati ($\\le100$)."
      ],
      "metadata": {
        "id": "AkSpFhnZWC19"
      }
    },
    {
      "cell_type": "code",
      "source": [
        "print('Tipo dell\\'output del modello: ',type(my_y_preds))\n",
        "print('Chiavi contenute nel dizionario: ',my_y_preds.keys())\n",
        "print('Shape di boxes: ',my_y_preds['boxes'].shape)\n",
        "print('Shape di confidence: ',my_y_preds['confidence'].shape)\n",
        "print('Shape di classes: ',my_y_preds['classes'].shape)\n",
        "print('Shape di num_detections: ',my_y_preds['num_detections'].shape)"
      ],
      "metadata": {
        "id": "qhEWnd2-V3BO"
      },
      "execution_count": null,
      "outputs": []
    },
    {
      "cell_type": "markdown",
      "source": [
        "## **Visualizzazione del risultato**\n",
        "Richiamando la funzione di utilità **plot_images_with_y_preds** è possibile visualizzare gli oggetti trovati."
      ],
      "metadata": {
        "id": "mOXoZC1uafFW"
      }
    },
    {
      "cell_type": "code",
      "source": [
        "plot_images_with_y_preds(image_batch,my_y_preds,class_labels,image_per_row=1,show_labels=True)"
      ],
      "metadata": {
        "id": "M3llcocYagMV"
      },
      "execution_count": null,
      "outputs": []
    },
    {
      "cell_type": "markdown",
      "metadata": {
        "id": "9wAW1X9QCBiT"
      },
      "source": [
        "# **Dataset**\n",
        "In questa esercitazione useremo il [Chess Pieces Dataset](https://public.roboflow.com/object-detection/chess-full) per addestrare il modello YOLOv8 ad individuare i pezzi del gioco degli scacchi.\n",
        "\n",
        "Il dataset consiste in un insieme di immagini RGB. Ogni immagine ha associato un file di annotazioni in formato testuale (TXT) contenente\n",
        "la classe e le bounding box (memorizzate nel formato YOLOv8) associate a tutti i pezzi degli scacchi presenti nell'immagine (*ground truth*).\n",
        "\n",
        "Eseguendo la cella sottostante, i percorsi assoluti di tutti i file con le annotazioni per i set di training, validation e test vengono caricati in memoria."
      ]
    },
    {
      "cell_type": "code",
      "source": [
        "# Classi del problema\n",
        "chess_class_labels = ['none',\n",
        "                      'black-bishop', 'black-king', 'black-knight', 'black-pawn', 'black-queen', 'black-rook',\n",
        "                      'white-bishop', 'white-king', 'white-knight', 'white-pawn', 'white-queen', 'white-rook']\n",
        "\n",
        "original_image_size=(416,416)\n",
        "\n",
        "# Percorsi in cui si trovano i set di training, validation e test\n",
        "train_base_path='/content/416x416_aug/train'\n",
        "val_base_path='/content/416x416_aug/valid'\n",
        "test_base_path='/content/416x416_aug/test'\n",
        "\n",
        "# Percorsi in cui si trovano le immagini dei set di training, validation e test\n",
        "train_path_images = train_base_path+'/images/'\n",
        "val_path_images = val_base_path+'/images/'\n",
        "test_path_images = test_base_path+'/images/'\n",
        "\n",
        "# Percorsi in cui si trovano le annotazioni dei set di training, validation e test\n",
        "train_path_annotations = train_base_path+'/labels/'\n",
        "val_path_annotations = val_base_path+'/labels/'\n",
        "test_path_annotations = test_base_path+'/labels/'\n",
        "\n",
        "# Lista dei file delle annotazioni di training\n",
        "train_txt_files = sorted(\n",
        "    [\n",
        "        os.path.join(train_path_annotations, file_name)\n",
        "        for file_name in os.listdir(train_path_annotations)\n",
        "        if file_name.endswith(\".txt\")\n",
        "    ]\n",
        ")\n",
        "\n",
        "# Lista dei file delle annotazioni di validation\n",
        "val_txt_files = sorted(\n",
        "    [\n",
        "        os.path.join(val_path_annotations, file_name)\n",
        "        for file_name in os.listdir(val_path_annotations)\n",
        "        if file_name.endswith(\".txt\")\n",
        "    ]\n",
        ")\n",
        "\n",
        "# Lista dei file delle annotazioni di test\n",
        "test_txt_files = sorted(\n",
        "    [\n",
        "        os.path.join(test_path_annotations, file_name)\n",
        "        for file_name in os.listdir(test_path_annotations)\n",
        "        if file_name.endswith(\".txt\")\n",
        "    ]\n",
        ")\n",
        "\n",
        "print('Numero dei file di training: ',len(train_txt_files))\n",
        "print('Numero dei file di validation: ',len(val_txt_files))\n",
        "print('Numero dei file di test: ',len(test_txt_files))"
      ],
      "metadata": {
        "id": "PSdPu5LIdpEe"
      },
      "execution_count": null,
      "outputs": []
    },
    {
      "cell_type": "markdown",
      "source": [
        "La cella sottostante permette di caricare in memoria i percorsi assoluti delle immagini e le rispettive annotazioni per i set di training, validation e test."
      ],
      "metadata": {
        "id": "v9WwLMYmh_bf"
      }
    },
    {
      "cell_type": "code",
      "source": [
        "train_image_path_list,train_yolov8_box_list,train_image_class_id_list=load_dataset_info(train_txt_files,train_path_images)\n",
        "val_image_path_list,val_yolov8_box_list,val_image_class_id_list=load_dataset_info(val_txt_files,val_path_images)\n",
        "test_image_path_list,test_yolov8_box_list,test_image_class_id_list=load_dataset_info(test_txt_files,test_path_images)"
      ],
      "metadata": {
        "id": "5HHflNIjiAFo"
      },
      "execution_count": null,
      "outputs": []
    },
    {
      "cell_type": "markdown",
      "source": [
        "Il formato YOLOv8 con cui sono memorizzate le *bounding box* dei pezzi degli scacchi riporta $x$, $y$, $w$ e $h$ come valori relativi (nell'intervallo $[0;1]$) rispetto alla dimensione dell'immagine a cui sono associate.\n",
        "\n",
        "La cella sottostante stampa a video i valori $(x,y,w,h)$ in formato relativo della *bounding box* associata alla prima immagine del training set."
      ],
      "metadata": {
        "id": "p-XfzeW5jXX6"
      }
    },
    {
      "cell_type": "code",
      "source": [
        "print(train_yolov8_box_list[0])"
      ],
      "metadata": {
        "id": "o6muDbv6g1pi"
      },
      "execution_count": null,
      "outputs": []
    },
    {
      "cell_type": "markdown",
      "source": [
        "Ai fini dell'addestramento del modello e della visualizzazione dei risultati è conveniente convertire le *bounding box*  da valori relativi a valori assoluti nel formato **'xywh'**. Per fare ciò è sufficiente utilizzare la funzione di utilità **from_rel_xywh_to_xywh** passandogli in input, oltre alle *bounding box* nel formato YOLOv8, le dimensioni delle immagini del dataset ($416\\times416$)."
      ],
      "metadata": {
        "id": "gFgMdphqg1-p"
      }
    },
    {
      "cell_type": "code",
      "source": [
        "train_xywh_box_list=from_rel_xywh_to_xywh(train_yolov8_box_list,original_image_size)\n",
        "val_xywh_box_list=from_rel_xywh_to_xywh(val_yolov8_box_list,original_image_size)\n",
        "test_xywh_box_list=from_rel_xywh_to_xywh(test_yolov8_box_list,original_image_size)"
      ],
      "metadata": {
        "id": "KbjT05DgjYDn"
      },
      "execution_count": null,
      "outputs": []
    },
    {
      "cell_type": "markdown",
      "source": [
        "La cella sottostante stampa a video i valori $(x,y,w,h)$ in formato assoluto della *bounding box* associata alla prima immagine del training set."
      ],
      "metadata": {
        "id": "VywvXTSLjXuK"
      }
    },
    {
      "cell_type": "code",
      "source": [
        "print(train_xywh_box_list[0])"
      ],
      "metadata": {
        "id": "UWnpuBDajX0z"
      },
      "execution_count": null,
      "outputs": []
    },
    {
      "cell_type": "markdown",
      "metadata": {
        "id": "9uEE4LDGCbJz"
      },
      "source": [
        "## **Visualizzazione dei dati**\n",
        "Per capire meglio la natura e la difficoltà del problema che affronteremo può essere molto utile visualizzare alcune immagini di esempio. Eseguendo la cella sottostante verranno visualizzate quattro immagini del training set scelte casualmente (con le rispettive annotazioni)."
      ]
    },
    {
      "cell_type": "code",
      "source": [
        "image_count=4\n",
        "random_idx=random.randint(0,len(train_image_path_list)-image_count)\n",
        "\n",
        "plot_images_with_xywh_bounding_boxes([plt.imread(train_image_path_list[i]) for i in range(random_idx,random_idx+image_count)],\n",
        "                                     train_xywh_box_list[random_idx:random_idx+image_count],\n",
        "                                     train_image_class_id_list[random_idx:random_idx+image_count],\n",
        "                                     chess_class_labels,\n",
        "                                     image_per_row=4,\n",
        "                                     show_labels=False)"
      ],
      "metadata": {
        "id": "LuSHXqLcjv6g"
      },
      "execution_count": null,
      "outputs": []
    },
    {
      "cell_type": "markdown",
      "source": [
        "## **Preparazione dei dati**\n",
        "Quando si usano database di grosse dimensioni non sempre è possibile e conveniente caricarli interamente in memoria. Per ovviare a questo problema è possibile utilizzare la classe [**Dataset**](https://www.tensorflow.org/api_docs/python/tf/data/Dataset) di TensorFlow che permette di gestire in maniera efficiente i dati caricandoli in memoria solo all'occorrenza.\n",
        "\n",
        "Il metodo [**from_tensor_slices**](https://www.tensorflow.org/api_docs/python/tf/data/Dataset#from_tensor_slices) crea un'istanza della classe **Dataset** partendo da un insieme di tensori che posseggono la prima dimensione con la medesima cardinalità.\n",
        "\n",
        "Avendo memorizzato le informazioni dei set di training, validation e test in delle liste, prima di tutto dobbiamo convertirle in tensori. Le funzioni [**tf.constant**](https://www.tensorflow.org/api_docs/python/tf/constant) e  [**tf.ragged.constant**](https://www.tensorflow.org/api_docs/python/tf/ragged/constant) di TensorFlow creano rispettivamente un tensore e un tensore irregolare (ovvero che può avere delle dimensioni a lunghezza variabile) a partire da una lista. I tensori irregolari sono necessari in quanto il numero di *bounding box* può variare per ogni immagine."
      ],
      "metadata": {
        "id": "UXNJZWual_uL"
      }
    },
    {
      "cell_type": "code",
      "source": [
        "chess_train_data = tf.data.Dataset.from_tensor_slices((tf.constant(train_image_path_list),\n",
        "                                                      tf.ragged.constant(train_xywh_box_list),\n",
        "                                                      tf.ragged.constant(train_image_class_id_list)))\n",
        "\n",
        "chess_val_data = tf.data.Dataset.from_tensor_slices((tf.constant(val_image_path_list),\n",
        "                                                     tf.ragged.constant(val_xywh_box_list),\n",
        "                                                     tf.ragged.constant(val_image_class_id_list)))\n",
        "\n",
        "chess_test_data = tf.data.Dataset.from_tensor_slices((tf.constant(test_image_path_list),\n",
        "                                                     tf.ragged.constant(test_xywh_box_list),\n",
        "                                                     tf.ragged.constant(test_image_class_id_list)))"
      ],
      "metadata": {
        "id": "TC_RDGhvmAfE"
      },
      "execution_count": null,
      "outputs": []
    },
    {
      "cell_type": "markdown",
      "source": [
        "La funzione **prepare_dataset** permette di preparare i dataset prima di utilizzarli nelle fasi di addestramento e valutazione delle prestazioni."
      ],
      "metadata": {
        "id": "CFyhRXnj_kRp"
      }
    },
    {
      "cell_type": "code",
      "source": [
        "batch_size = 4\n",
        "\n",
        "chess_train_ds=prepare_dataset(chess_train_data,batch_size,model_input_size)\n",
        "chess_val_ds=prepare_dataset(chess_val_data,batch_size,model_input_size)\n",
        "chess_test_ds=prepare_dataset(chess_test_data,chess_test_data.cardinality().numpy(),model_input_size)"
      ],
      "metadata": {
        "id": "cIlYRB2BHP1M"
      },
      "execution_count": null,
      "outputs": []
    },
    {
      "cell_type": "markdown",
      "source": [
        "La cella sottostante riporta il numero di *mini-batch* creati per ognuno dei tre dataset."
      ],
      "metadata": {
        "id": "Qbwlvhr5bHjX"
      }
    },
    {
      "cell_type": "code",
      "source": [
        "print('Mini-batch di training: ',chess_train_ds.cardinality().numpy())\n",
        "print('Mini-batch di validation: ',chess_val_ds.cardinality().numpy())\n",
        "print('Mini-batch di test: ',chess_test_ds.cardinality().numpy())"
      ],
      "metadata": {
        "id": "EQBJJknaIdWs"
      },
      "execution_count": null,
      "outputs": []
    },
    {
      "cell_type": "markdown",
      "source": [
        "Iterando su un Dataset è possibile ottenere un *mini-batch* per volta."
      ],
      "metadata": {
        "id": "MQpjvQH8bzF_"
      }
    },
    {
      "cell_type": "code",
      "source": [
        "images, bounding_boxes =next(iter(chess_train_ds))\n",
        "\n",
        "print('Shape del mini-batch delle immagini: ',images.shape)\n",
        "print('Shape del mini-batch delle bounding box: ',bounding_boxes['boxes'].shape)\n",
        "print('Shape del mini-batch delle classi associate alle bounding box: ',bounding_boxes['classes'].shape)"
      ],
      "metadata": {
        "id": "fSel5-f8KOEe"
      },
      "execution_count": null,
      "outputs": []
    },
    {
      "cell_type": "markdown",
      "source": [
        "Grazie alla funzione **plot_images_with_xywh_bounding_boxes** è possibile visualizzare a video le immagini appartenenti a un *mini-batch* con evidenziate le *bounding box* associate."
      ],
      "metadata": {
        "id": "cuRrZ9MGdN0J"
      }
    },
    {
      "cell_type": "code",
      "source": [
        "plot_images_with_xywh_bounding_boxes(images/255,\n",
        "                                     bounding_boxes['boxes'].to_list(),\n",
        "                                     tf.dtypes.cast(bounding_boxes['classes'],tf.int32).to_list(),\n",
        "                                     chess_class_labels,\n",
        "                                     image_per_row=4,\n",
        "                                     show_labels=False)"
      ],
      "metadata": {
        "id": "5rmug6DgKggz"
      },
      "execution_count": null,
      "outputs": []
    },
    {
      "cell_type": "markdown",
      "source": [
        "# **Transfer learning**\n",
        "L'addestramento di YOLOv8 su un nuovo problema, richiede un training set etichettato di notevoli dimensioni.\n",
        "\n",
        "In alternativa al training da zero, possiamo utilizzare un modello pre-addestrato su un altro problema di *object detection* e effettuare [*fine-tuning*](https://en.wikipedia.org/wiki/Fine-tuning_(deep_learning)) sul nostro problema.\n"
      ],
      "metadata": {
        "id": "WduxhdjBWNrT"
      }
    },
    {
      "cell_type": "markdown",
      "source": [
        "## **Caricamento del modello pre-addestrato**\n",
        "Il metodo [**from_preset**](https://keras.io/api/keras_cv/models/backbones/yolo_v8/#frompreset-method) della classe [**YOLOV8Backbone**](https://keras.io/api/keras_cv/models/backbones/yolo_v8/#yolov8backbone-class) permette di istanziare una YOLOv8 caricando i pesi pre-addestrati su uno specifico dataset per poi utilizzarli in un altro contesto o su un altro *task*.\n",
        "\n",
        "Eseguendo la cella sottostante verranno caricati i pesi ottenuti utilizzando in fase di addestramento il daset [**COCO**](https://cocodataset.org/)."
      ],
      "metadata": {
        "id": "OBxsOIU7YorU"
      }
    },
    {
      "cell_type": "code",
      "source": [
        "yolov8_backbone = keras_cv.models.YOLOV8Backbone.from_preset('yolo_v8_s_backbone_coco',load_weights=True)"
      ],
      "metadata": {
        "id": "5MgMqGPdYwf6"
      },
      "execution_count": null,
      "outputs": []
    },
    {
      "cell_type": "markdown",
      "source": [
        "## **Creazione del modello**\n",
        "Il codice seguente crea un'istanza della classe **YOLOV8Detector** utilizzando il *backbone* con i pesi pre-addestrati caricati nella cella precedente e impostando il numero di classi (*num_classes*) in base al problema che vogliamo affrontare."
      ],
      "metadata": {
        "id": "-u2NGqcdWSTo"
      }
    },
    {
      "cell_type": "code",
      "source": [
        "yolov8_chess_detector = keras_cv.models.YOLOV8Detector(backbone=yolov8_backbone,num_classes=len(chess_class_labels),bounding_box_format='xywh')"
      ],
      "metadata": {
        "id": "s9EplwxlWXn4"
      },
      "execution_count": null,
      "outputs": []
    },
    {
      "cell_type": "markdown",
      "source": [
        "## **Visualizzazione del modello**\n",
        "Eseguendo la cella seguente è possibile stampare un riepilogo testuale della struttura del modello appena caricato."
      ],
      "metadata": {
        "id": "mU1RwXM4W1_L"
      }
    },
    {
      "cell_type": "code",
      "source": [
        "yolov8_chess_detector.summary()"
      ],
      "metadata": {
        "id": "F5CBNcW6W3zA"
      },
      "execution_count": null,
      "outputs": []
    },
    {
      "cell_type": "markdown",
      "source": [
        "Se si preferisce una visualizzazione grafica, eseguire la cella seguente."
      ],
      "metadata": {
        "id": "xdz5HwnnW_PB"
      }
    },
    {
      "cell_type": "code",
      "source": [
        "tf.keras.utils.plot_model(yolov8_chess_detector,show_shapes=True, show_layer_names=True)"
      ],
      "metadata": {
        "id": "j2mpXEg2XDjo"
      },
      "execution_count": null,
      "outputs": []
    },
    {
      "cell_type": "markdown",
      "source": [
        "## **Configurare il modello per il training**\n",
        "Con il metodo **compile** è possibile configurare il modello per la fase di training dati in input:\n",
        "- un ottimizzatore (*optimizer*);\n",
        "- la *loss* di classificazione (*classification_loss*);\n",
        "- la *loss* di regressione delle *bounding box* (*box_loss*).\n",
        "\n",
        "In particolare come *loss* di regressione delle *bounding box* viene utilizzata la **'ciou'** (*Complete Intersection over Union*), una variante della *Intersection over Union* (IoU)."
      ],
      "metadata": {
        "id": "hNn4cRJKXkvS"
      }
    },
    {
      "cell_type": "code",
      "source": [
        "# Configura il modello per il training\n",
        "yolov8_chess_detector.compile(optimizer='adam', classification_loss='binary_crossentropy', box_loss='ciou')"
      ],
      "metadata": {
        "id": "TYKfDBGIXlfC"
      },
      "execution_count": null,
      "outputs": []
    },
    {
      "cell_type": "markdown",
      "source": [
        "# **Training**\n",
        "Ora siamo pronti per effettuare il *fine-tuning* della YOLOv8 utilizzando le immagini e le annotazioni dei dataset di training (*chess_train_ds*) e validation (*chess_val_ds*) per un numero di epoche pari a *epoch_count*."
      ],
      "metadata": {
        "id": "5pEk1ceHX21Q"
      }
    },
    {
      "cell_type": "code",
      "source": [
        "# Numero di epoche di addestramento\n",
        "epoch_count = 30"
      ],
      "metadata": {
        "id": "u9kf9g0KNTxx"
      },
      "execution_count": null,
      "outputs": []
    },
    {
      "cell_type": "markdown",
      "source": [
        "Per evitare che il modello faccia *overfitting* sul dataset di training, si può utilizzare la classe di *callback* [**EarlyStopping**](https://keras.io/api/callbacks/early_stopping/#earlystopping-class) che permette di interrompere l'addestramento quando la metrica monitorata smette di migliorare. I parametri da impostare sono:\n",
        "- *monitor* la metrica da monitoriare;\n",
        "- *patience* il numero di epoche consecutive in cui la metrica monitorata non migliora da attendere prima di interrompere l'addestramento;\n",
        "- *restore_best_weights* permette di reimpostare i pesi all'epoca in la metrica monitorata ha ottenuto il valore migliore."
      ],
      "metadata": {
        "id": "9xW7rqnEN4Eg"
      }
    },
    {
      "cell_type": "code",
      "source": [
        "patience=5\n",
        "early_stop = keras.callbacks.EarlyStopping(monitor='val_loss', patience=patience, restore_best_weights=True)"
      ],
      "metadata": {
        "id": "4tG8vi3xOEg0"
      },
      "execution_count": null,
      "outputs": []
    },
    {
      "cell_type": "markdown",
      "source": [
        "Nella cella seguente viene richiamato il metodo [**fit**](https://keras.io/api/models/model_training_apis/#fit-method) che esegue l'intera fase di addestramento in maniera automatica monitorando costantemente la *loss function* su training e validation set."
      ],
      "metadata": {
        "id": "1OJKcsm_OFIh"
      }
    },
    {
      "cell_type": "code",
      "source": [
        "history = yolov8_chess_detector.fit(chess_train_ds,validation_data=chess_val_ds,epochs=epoch_count,callbacks=[early_stop])"
      ],
      "metadata": {
        "id": "TGABl5zIX5gP"
      },
      "execution_count": null,
      "outputs": []
    },
    {
      "cell_type": "markdown",
      "source": [
        "Il metodo **fit** restituisce un oggetto (*history*) che contiene per ogni epoca i valori della *loss function* sia per il training sia per il validation set.\n",
        "\n",
        "Richiamando la funzione **plot_history** è possibile graficare tali valori."
      ],
      "metadata": {
        "id": "cmdYyDnDTgJp"
      }
    },
    {
      "cell_type": "code",
      "source": [
        "plot_history(history)"
      ],
      "metadata": {
        "id": "DcXaY-MTTg-x"
      },
      "execution_count": null,
      "outputs": []
    },
    {
      "cell_type": "markdown",
      "source": [
        "# **Valutazione delle prestazioni sul test set**\n",
        "Per verificare l'effettiva capacità di generalizzazione del modello appena addestrato, è fondamentale misurarne le prestazioni sul dataset di test."
      ],
      "metadata": {
        "id": "5SXlElV0TtRh"
      }
    },
    {
      "cell_type": "markdown",
      "source": [
        "## **Test set**\n",
        "Iterando sul dataset di test (*chess_test_ds*) è possibile estrarre immagini (*test_x*) e annotazioni (*test_y_true*)."
      ],
      "metadata": {
        "id": "2puL7fl5Suor"
      }
    },
    {
      "cell_type": "code",
      "source": [
        "test_x, test_y_true = next(iter(chess_test_ds.take(1)))\n",
        "print('Shape del mini-batch di test: ',test_x.shape)"
      ],
      "metadata": {
        "id": "ajN5JnndTuGi"
      },
      "execution_count": null,
      "outputs": []
    },
    {
      "cell_type": "markdown",
      "source": [
        "## **Object detection**\n",
        "Eseguendo la cella sottostante, si effettuerà la *detection* sulle immagini del test set (*test_x*) richiamando il metodo **predict** del modello appena addestrato."
      ],
      "metadata": {
        "id": "ZH_tL8bdTxzx"
      }
    },
    {
      "cell_type": "code",
      "source": [
        "test_y_pred = yolov8_chess_detector.predict(test_x)"
      ],
      "metadata": {
        "id": "FXBlDTkYTyi5"
      },
      "execution_count": null,
      "outputs": []
    },
    {
      "cell_type": "markdown",
      "source": [
        "## **Visualizzazione dei risultati**\n",
        "Richiamando la funzione di utilità **plot_images_with_y_preds** è possibile visualizzare i pezzi trovati sulle immagini del test set."
      ],
      "metadata": {
        "id": "wvmEu9KdUTll"
      }
    },
    {
      "cell_type": "code",
      "source": [
        "plot_images_with_y_preds(test_x/255,test_y_pred,chess_class_labels,image_per_row=5,show_labels=False)"
      ],
      "metadata": {
        "id": "z6RzjC_GUPL6"
      },
      "execution_count": null,
      "outputs": []
    },
    {
      "cell_type": "markdown",
      "source": [
        "Visivamente si possono notare gli ottimi risultati ottenuti.\n",
        "\n",
        "Per avere una valutazione delle prestazioni più obiettiva è opportuno calcolare la *mean Average Precision* (mAP).\n",
        "\n",
        "Per farlo è sufficiente richiamare la funzione **compute_mean_average_precision** passandogli in input il *ground truth* del test set e le *prediction* (*test_y_pred*) restituite dal modello."
      ],
      "metadata": {
        "id": "priXgH2fUdX_"
      }
    },
    {
      "cell_type": "code",
      "source": [
        "test_map=compute_mean_average_precision(test_y_true, test_y_pred)\n",
        "print(test_map)"
      ],
      "metadata": {
        "id": "zMrSP7lEYDqJ"
      },
      "execution_count": null,
      "outputs": []
    },
    {
      "cell_type": "markdown",
      "source": [
        "L'mAP ottenuto risulta molto elevato confermando le ottime prestazioni della YOLOv8 nell'individuare correttamente i pezzi degli scacchi."
      ],
      "metadata": {
        "id": "iXkWTeatWsml"
      }
    },
    {
      "cell_type": "markdown",
      "source": [
        "# **Esercizio 2**\n",
        "Risolvere un altro problema di *object detection* scelto su [**Roboflow**](https://public.roboflow.com/object-detection) modificando il codice visto durante l'esercitazione."
      ],
      "metadata": {
        "id": "RuL1aA6lXu0u"
      }
    }
  ]
}