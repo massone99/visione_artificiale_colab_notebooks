{
  "nbformat": 4,
  "nbformat_minor": 0,
  "metadata": {
    "colab": {
      "provenance": [],
      "include_colab_link": true
    },
    "kernelspec": {
      "name": "python3",
      "display_name": "Python 3"
    },
    "language_info": {
      "name": "python"
    },
    "widgets": {
      "application/vnd.jupyter.widget-state+json": {
        "335ea050e08e4f60801feb8eb2c635ab": {
          "model_module": "@jupyter-widgets/controls",
          "model_name": "HBoxModel",
          "model_module_version": "1.5.0",
          "state": {
            "_dom_classes": [],
            "_model_module": "@jupyter-widgets/controls",
            "_model_module_version": "1.5.0",
            "_model_name": "HBoxModel",
            "_view_count": null,
            "_view_module": "@jupyter-widgets/controls",
            "_view_module_version": "1.5.0",
            "_view_name": "HBoxView",
            "box_style": "",
            "children": [
              "IPY_MODEL_8ee96c0518eb44199c79984f6206bb1d",
              "IPY_MODEL_fcf78aa5cbf74ac28f07ba4e74aef476",
              "IPY_MODEL_42bfdc9329c54278b249cd01c2ef3ee8"
            ],
            "layout": "IPY_MODEL_03198d0dc5fd448684b17b4695c27bb9"
          }
        },
        "8ee96c0518eb44199c79984f6206bb1d": {
          "model_module": "@jupyter-widgets/controls",
          "model_name": "HTMLModel",
          "model_module_version": "1.5.0",
          "state": {
            "_dom_classes": [],
            "_model_module": "@jupyter-widgets/controls",
            "_model_module_version": "1.5.0",
            "_model_name": "HTMLModel",
            "_view_count": null,
            "_view_module": "@jupyter-widgets/controls",
            "_view_module_version": "1.5.0",
            "_view_name": "HTMLView",
            "description": "",
            "description_tooltip": null,
            "layout": "IPY_MODEL_1ef9f7e7d6344c8f8faf4d41e2c43485",
            "placeholder": "​",
            "style": "IPY_MODEL_7484cec4604449fa8e66eab025cbb336",
            "value": "100%"
          }
        },
        "fcf78aa5cbf74ac28f07ba4e74aef476": {
          "model_module": "@jupyter-widgets/controls",
          "model_name": "FloatProgressModel",
          "model_module_version": "1.5.0",
          "state": {
            "_dom_classes": [],
            "_model_module": "@jupyter-widgets/controls",
            "_model_module_version": "1.5.0",
            "_model_name": "FloatProgressModel",
            "_view_count": null,
            "_view_module": "@jupyter-widgets/controls",
            "_view_module_version": "1.5.0",
            "_view_name": "ProgressView",
            "bar_style": "success",
            "description": "",
            "description_tooltip": null,
            "layout": "IPY_MODEL_43c9fd499e264b0589f98190eb472e26",
            "max": 96,
            "min": 0,
            "orientation": "horizontal",
            "style": "IPY_MODEL_dd9a2852477c41bbb0ab415155f8c423",
            "value": 96
          }
        },
        "42bfdc9329c54278b249cd01c2ef3ee8": {
          "model_module": "@jupyter-widgets/controls",
          "model_name": "HTMLModel",
          "model_module_version": "1.5.0",
          "state": {
            "_dom_classes": [],
            "_model_module": "@jupyter-widgets/controls",
            "_model_module_version": "1.5.0",
            "_model_name": "HTMLModel",
            "_view_count": null,
            "_view_module": "@jupyter-widgets/controls",
            "_view_module_version": "1.5.0",
            "_view_name": "HTMLView",
            "description": "",
            "description_tooltip": null,
            "layout": "IPY_MODEL_9fa560a122124d59af053e388b3a2cac",
            "placeholder": "​",
            "style": "IPY_MODEL_282bf013bc34467e812eda9bdf9289eb",
            "value": " 96/96 [00:00&lt;00:00, 976.00it/s]"
          }
        },
        "03198d0dc5fd448684b17b4695c27bb9": {
          "model_module": "@jupyter-widgets/base",
          "model_name": "LayoutModel",
          "model_module_version": "1.2.0",
          "state": {
            "_model_module": "@jupyter-widgets/base",
            "_model_module_version": "1.2.0",
            "_model_name": "LayoutModel",
            "_view_count": null,
            "_view_module": "@jupyter-widgets/base",
            "_view_module_version": "1.2.0",
            "_view_name": "LayoutView",
            "align_content": null,
            "align_items": null,
            "align_self": null,
            "border": null,
            "bottom": null,
            "display": null,
            "flex": null,
            "flex_flow": null,
            "grid_area": null,
            "grid_auto_columns": null,
            "grid_auto_flow": null,
            "grid_auto_rows": null,
            "grid_column": null,
            "grid_gap": null,
            "grid_row": null,
            "grid_template_areas": null,
            "grid_template_columns": null,
            "grid_template_rows": null,
            "height": null,
            "justify_content": null,
            "justify_items": null,
            "left": null,
            "margin": null,
            "max_height": null,
            "max_width": null,
            "min_height": null,
            "min_width": null,
            "object_fit": null,
            "object_position": null,
            "order": null,
            "overflow": null,
            "overflow_x": null,
            "overflow_y": null,
            "padding": null,
            "right": null,
            "top": null,
            "visibility": null,
            "width": null
          }
        },
        "1ef9f7e7d6344c8f8faf4d41e2c43485": {
          "model_module": "@jupyter-widgets/base",
          "model_name": "LayoutModel",
          "model_module_version": "1.2.0",
          "state": {
            "_model_module": "@jupyter-widgets/base",
            "_model_module_version": "1.2.0",
            "_model_name": "LayoutModel",
            "_view_count": null,
            "_view_module": "@jupyter-widgets/base",
            "_view_module_version": "1.2.0",
            "_view_name": "LayoutView",
            "align_content": null,
            "align_items": null,
            "align_self": null,
            "border": null,
            "bottom": null,
            "display": null,
            "flex": null,
            "flex_flow": null,
            "grid_area": null,
            "grid_auto_columns": null,
            "grid_auto_flow": null,
            "grid_auto_rows": null,
            "grid_column": null,
            "grid_gap": null,
            "grid_row": null,
            "grid_template_areas": null,
            "grid_template_columns": null,
            "grid_template_rows": null,
            "height": null,
            "justify_content": null,
            "justify_items": null,
            "left": null,
            "margin": null,
            "max_height": null,
            "max_width": null,
            "min_height": null,
            "min_width": null,
            "object_fit": null,
            "object_position": null,
            "order": null,
            "overflow": null,
            "overflow_x": null,
            "overflow_y": null,
            "padding": null,
            "right": null,
            "top": null,
            "visibility": null,
            "width": null
          }
        },
        "7484cec4604449fa8e66eab025cbb336": {
          "model_module": "@jupyter-widgets/controls",
          "model_name": "DescriptionStyleModel",
          "model_module_version": "1.5.0",
          "state": {
            "_model_module": "@jupyter-widgets/controls",
            "_model_module_version": "1.5.0",
            "_model_name": "DescriptionStyleModel",
            "_view_count": null,
            "_view_module": "@jupyter-widgets/base",
            "_view_module_version": "1.2.0",
            "_view_name": "StyleView",
            "description_width": ""
          }
        },
        "43c9fd499e264b0589f98190eb472e26": {
          "model_module": "@jupyter-widgets/base",
          "model_name": "LayoutModel",
          "model_module_version": "1.2.0",
          "state": {
            "_model_module": "@jupyter-widgets/base",
            "_model_module_version": "1.2.0",
            "_model_name": "LayoutModel",
            "_view_count": null,
            "_view_module": "@jupyter-widgets/base",
            "_view_module_version": "1.2.0",
            "_view_name": "LayoutView",
            "align_content": null,
            "align_items": null,
            "align_self": null,
            "border": null,
            "bottom": null,
            "display": null,
            "flex": null,
            "flex_flow": null,
            "grid_area": null,
            "grid_auto_columns": null,
            "grid_auto_flow": null,
            "grid_auto_rows": null,
            "grid_column": null,
            "grid_gap": null,
            "grid_row": null,
            "grid_template_areas": null,
            "grid_template_columns": null,
            "grid_template_rows": null,
            "height": null,
            "justify_content": null,
            "justify_items": null,
            "left": null,
            "margin": null,
            "max_height": null,
            "max_width": null,
            "min_height": null,
            "min_width": null,
            "object_fit": null,
            "object_position": null,
            "order": null,
            "overflow": null,
            "overflow_x": null,
            "overflow_y": null,
            "padding": null,
            "right": null,
            "top": null,
            "visibility": null,
            "width": null
          }
        },
        "dd9a2852477c41bbb0ab415155f8c423": {
          "model_module": "@jupyter-widgets/controls",
          "model_name": "ProgressStyleModel",
          "model_module_version": "1.5.0",
          "state": {
            "_model_module": "@jupyter-widgets/controls",
            "_model_module_version": "1.5.0",
            "_model_name": "ProgressStyleModel",
            "_view_count": null,
            "_view_module": "@jupyter-widgets/base",
            "_view_module_version": "1.2.0",
            "_view_name": "StyleView",
            "bar_color": null,
            "description_width": ""
          }
        },
        "9fa560a122124d59af053e388b3a2cac": {
          "model_module": "@jupyter-widgets/base",
          "model_name": "LayoutModel",
          "model_module_version": "1.2.0",
          "state": {
            "_model_module": "@jupyter-widgets/base",
            "_model_module_version": "1.2.0",
            "_model_name": "LayoutModel",
            "_view_count": null,
            "_view_module": "@jupyter-widgets/base",
            "_view_module_version": "1.2.0",
            "_view_name": "LayoutView",
            "align_content": null,
            "align_items": null,
            "align_self": null,
            "border": null,
            "bottom": null,
            "display": null,
            "flex": null,
            "flex_flow": null,
            "grid_area": null,
            "grid_auto_columns": null,
            "grid_auto_flow": null,
            "grid_auto_rows": null,
            "grid_column": null,
            "grid_gap": null,
            "grid_row": null,
            "grid_template_areas": null,
            "grid_template_columns": null,
            "grid_template_rows": null,
            "height": null,
            "justify_content": null,
            "justify_items": null,
            "left": null,
            "margin": null,
            "max_height": null,
            "max_width": null,
            "min_height": null,
            "min_width": null,
            "object_fit": null,
            "object_position": null,
            "order": null,
            "overflow": null,
            "overflow_x": null,
            "overflow_y": null,
            "padding": null,
            "right": null,
            "top": null,
            "visibility": null,
            "width": null
          }
        },
        "282bf013bc34467e812eda9bdf9289eb": {
          "model_module": "@jupyter-widgets/controls",
          "model_name": "DescriptionStyleModel",
          "model_module_version": "1.5.0",
          "state": {
            "_model_module": "@jupyter-widgets/controls",
            "_model_module_version": "1.5.0",
            "_model_name": "DescriptionStyleModel",
            "_view_count": null,
            "_view_module": "@jupyter-widgets/base",
            "_view_module_version": "1.2.0",
            "_view_name": "StyleView",
            "description_width": ""
          }
        }
      }
    }
  },
  "cells": [
    {
      "cell_type": "markdown",
      "metadata": {
        "id": "view-in-github",
        "colab_type": "text"
      },
      "source": [
        "<a href=\"https://colab.research.google.com/github/massone99/visione_artificiale_colab_notebooks/blob/main/CBIR.ipynb\" target=\"_parent\"><img src=\"https://colab.research.google.com/assets/colab-badge.svg\" alt=\"Open In Colab\"/></a>"
      ]
    },
    {
      "cell_type": "markdown",
      "source": [
        "# **CBIR system**\n",
        "*   Obiettivo dell’esercitazione è la realizzazione di un sistema per la ricerca di immagini secondo il paradigma *query by example*.\n",
        "*   Il sistema opera all’interno di un database di immagini rappresentanti oggetti in ceramica dipinti con disegni tipici della tradizione.\n",
        "*   L’utente propone una query selezionando l’immagine di esempio desiderata e il sistema deve visualizzare le immagini del database più simile all’esempio dell’utente.\n",
        "*   Prima di poter eseguire delle ricerche è necessario codificare le immagini del database attraverso opportune feature numeriche che ne descrivano le caratteristiche salienti (colore, forma, texture). Anche la query dell’utente dovrà essere codificata allo stesso modo.\n",
        "\n",
        "<img src=https://biolab.csr.unibo.it/vr/esercitazioni/NotebookImages/EsCBIR/SistemaCBIR.png width=\"800\">"
      ],
      "metadata": {
        "id": "dcS6RCe-jGDg"
      }
    },
    {
      "cell_type": "markdown",
      "source": [
        "# **Import delle librerie**\n",
        "È necessario ora eseguire l'import delle librerie utilizzate durante l'esercitazione.\n",
        "Per questa esercitazione è necessario inoltre utilizzare una versione specifica della libreria opencv perché si utilizzano feature (SIFT) che nelle versioni successive della libreria sono disponibili solo a pagamento."
      ],
      "metadata": {
        "id": "xHcft5AtKohC"
      }
    },
    {
      "cell_type": "code",
      "source": [
        "!pip install  opencv-python\n",
        "!pip install  opencv-contrib-python\n",
        "import cv2\n",
        "import numpy as np\n",
        "from google.colab.patches import cv2_imshow\n",
        "import glob\n",
        "import os\n",
        "import matplotlib.pyplot as plt\n",
        "from tqdm.notebook import tqdm"
      ],
      "metadata": {
        "id": "1eWj3vB2kDYc",
        "colab": {
          "base_uri": "https://localhost:8080/"
        },
        "outputId": "783e2cf8-3d8e-4940-951a-9ded3e5c41c8"
      },
      "execution_count": 1,
      "outputs": [
        {
          "output_type": "stream",
          "name": "stdout",
          "text": [
            "Requirement already satisfied: opencv-python in /usr/local/lib/python3.10/dist-packages (4.8.0.76)\n",
            "Requirement already satisfied: numpy>=1.21.2 in /usr/local/lib/python3.10/dist-packages (from opencv-python) (1.23.5)\n",
            "Requirement already satisfied: opencv-contrib-python in /usr/local/lib/python3.10/dist-packages (4.8.0.76)\n",
            "Requirement already satisfied: numpy>=1.21.2 in /usr/local/lib/python3.10/dist-packages (from opencv-contrib-python) (1.23.5)\n"
          ]
        }
      ]
    },
    {
      "cell_type": "markdown",
      "source": [
        "# **Utility functions**\n",
        "Eseguire il codice seguente per definire alcune funzioni di utilità utilizzate nell'esercitazione:\n",
        "*   `load_images` carica le immagini del database;\n",
        "*   `show_images` visualizza un sottoinsieme delle immagini del database.\n"
      ],
      "metadata": {
        "id": "mdzfjj_JLNZL"
      }
    },
    {
      "cell_type": "code",
      "source": [
        "def load_images():\n",
        "  db_img_list = [file for file in glob.glob(os.path.join('/content/CeramicheFaenza/','*.jpg'))]\n",
        "  db_images = [cv2.imread(img) for img in db_img_list]\n",
        "  return db_images\n",
        "\n",
        "def show_images(images):\n",
        "  rows = 5\n",
        "  columns = 6\n",
        "  plt.rcParams.update({'font.size': 20})\n",
        "  _, axs = plt.subplots(rows, columns, squeeze=False, figsize=(30, 15))\n",
        "\n",
        "  for i in range(rows*columns):\n",
        "    r = i // columns\n",
        "    c = i % columns\n",
        "    axs[r, c].axis('off')\n",
        "    axs[r, c].imshow(cv2.cvtColor(images[i], cv2.COLOR_BGR2RGB))"
      ],
      "metadata": {
        "id": "lGCyXTV3bgpf"
      },
      "execution_count": 2,
      "outputs": []
    },
    {
      "cell_type": "markdown",
      "source": [
        "# **Dataset**"
      ],
      "metadata": {
        "id": "O-b8MSsoigyo"
      }
    },
    {
      "cell_type": "markdown",
      "source": [
        "Il caso di studio per questa esercitazione è costituito da un dataset di immagini di ceramiche di Faenza che include immagini di piatti, ciotole, vasi, cofanetti caratterizzati da disegni e colori molto caratteristici."
      ],
      "metadata": {
        "id": "L-L7MPkNMzS_"
      }
    },
    {
      "cell_type": "code",
      "execution_count": null,
      "metadata": {
        "id": "bmicjNOSjB1p"
      },
      "outputs": [],
      "source": [
        "!wget http://bias.csr.unibo.it/VR/Esercitazioni/DBs/CeramicheFaenza.zip\n",
        "!unzip /content/CeramicheFaenza.zip\n",
        "!rm /content/CeramicheFaenza.zip"
      ]
    },
    {
      "cell_type": "markdown",
      "source": [
        "Visualizziamo alcune immagini del dataset..."
      ],
      "metadata": {
        "id": "P4rk7zYhN2A3"
      }
    },
    {
      "cell_type": "code",
      "source": [
        "db_images = load_images()\n",
        "show_images(db_images[:30])"
      ],
      "metadata": {
        "id": "DC5z50E_VMOV"
      },
      "execution_count": null,
      "outputs": []
    },
    {
      "cell_type": "markdown",
      "source": [
        "... e carichiamo un'immagine da fornire al sistema come query. Per la selezione delle query utilizziamo le immagini nella cartella *Query* che vegono usate esclusivamente per l'interrogazione del sistema e non per il training."
      ],
      "metadata": {
        "id": "39vx9j0cN69P"
      }
    },
    {
      "cell_type": "code",
      "source": [
        "query = cv2.imread('/content/CeramicheFaenza/Query/0012_-_piatto_pavona_30_cm_0.jpg')\n",
        "#query = cv2.imread('/content/CeramicheFaenza/Query/0020_-_piatto_garofano_31.5_0.jpg')\n",
        "#query = cv2.imread('/content/CeramicheFaenza/Query/0365-porta-cioccolatini-ceramica_0.jpg')\n",
        "#query = cv2.imread('/content/CeramicheFaenza/Query/0240-anfora-con-manici.jpg')\n",
        "cv2_imshow(query)"
      ],
      "metadata": {
        "id": "lKDL0M-tfQKD",
        "colab": {
          "base_uri": "https://localhost:8080/",
          "height": 175
        },
        "outputId": "510255f6-2e57-4e3e-c71d-4ea056f0d163"
      },
      "execution_count": 5,
      "outputs": [
        {
          "output_type": "display_data",
          "data": {
            "text/plain": [
              "<PIL.Image.Image image mode=RGB size=210x158>"
            ],
            "image/png": "[encoded data removed]"
          },
          "metadata": {}
        }
      ]
    },
    {
      "cell_type": "markdown",
      "source": [
        "# **Color**"
      ],
      "metadata": {
        "id": "-Wxuy2tvH_IT"
      }
    },
    {
      "cell_type": "markdown",
      "source": [
        "Per ciò che riguarda le feature colore il descrittore sarà costituito dalla **concatenazione** degli **istogrammi colore** calcolati **separatamente** per i **3 canali RGB** dell'immagine.\n",
        "\n",
        "Per il calcolo dell'istogramma si consiglia di utilizzare il medoto `cv2.calcHist` già visto nell'esercitazione introduttiva.\n",
        "Un numero di bin pari a 20 può essere sufficiente, ma è bene analizzare l'impatto di questo parametro sulla qualità visiva del risultato prodotto.\n",
        "\n",
        "Una volta definita la funzione `compute_color_features` questa può essere utilizzata per l'estrazione delle feature colore su tutte le immagini del dataset (di training)."
      ],
      "metadata": {
        "id": "BEaRdVvkOd_4"
      }
    },
    {
      "cell_type": "code",
      "source": [
        "def compute_color_features(image, num_bins=20):\n",
        "    # Assicurati che l'immagine sia stata caricata correttamente\n",
        "    if image is None:\n",
        "        print(\"Impossibile leggere l'immagine:\", image_path)\n",
        "        return None\n",
        "\n",
        "    # Separa l'immagine in canali RGB\n",
        "    b, g, r = cv2.split(image)\n",
        "\n",
        "    # Calcola gli istogrammi per ciascun canale\n",
        "    hist_b = cv2.calcHist([b], [0], None, [num_bins], [0, 256])\n",
        "    hist_g = cv2.calcHist([g], [0], None, [num_bins], [0, 256])\n",
        "    hist_r = cv2.calcHist([r], [0], None, [num_bins], [0, 256])\n",
        "\n",
        "    # Concatena gli istogrammi dei tre canali per creare il descrittore\n",
        "    color_features = np.concatenate((hist_b, hist_g, hist_r))\n",
        "\n",
        "    return color_features\n",
        "\n",
        "db_color_features = [compute_color_features(img) for img in tqdm(db_images)]"
      ],
      "metadata": {
        "id": "Nwkv_7dZj6F-",
        "colab": {
          "base_uri": "https://localhost:8080/",
          "height": 49,
          "referenced_widgets": [
            "335ea050e08e4f60801feb8eb2c635ab",
            "8ee96c0518eb44199c79984f6206bb1d",
            "fcf78aa5cbf74ac28f07ba4e74aef476",
            "42bfdc9329c54278b249cd01c2ef3ee8",
            "03198d0dc5fd448684b17b4695c27bb9",
            "1ef9f7e7d6344c8f8faf4d41e2c43485",
            "7484cec4604449fa8e66eab025cbb336",
            "43c9fd499e264b0589f98190eb472e26",
            "dd9a2852477c41bbb0ab415155f8c423",
            "9fa560a122124d59af053e388b3a2cac",
            "282bf013bc34467e812eda9bdf9289eb"
          ]
        },
        "outputId": "7e8cf1d4-94df-4fa8-f5aa-1b7c93e9e1b9"
      },
      "execution_count": 7,
      "outputs": [
        {
          "output_type": "display_data",
          "data": {
            "text/plain": [
              "  0%|          | 0/96 [00:00<?, ?it/s]"
            ],
            "application/vnd.jupyter.widget-view+json": {
              "version_major": 2,
              "version_minor": 0,
              "model_id": "335ea050e08e4f60801feb8eb2c635ab"
            }
          },
          "metadata": {}
        }
      ]
    },
    {
      "cell_type": "markdown",
      "source": [
        "## Ricerca di similarità sulla base del colore\n",
        "Data la query dell'utente, il sistema deve codificarla in modo analogo a quanto già fatto per le immagini del dataset, ovvero estraendo in questo caso il descrittore colore.\n",
        "\n",
        "Sarà poi possibile confrontare il descrittore associato alla query con i singoli descrittori delle immagini del database.\n",
        "\n",
        "Viene usata qui una misura di similarità tra descrittori basato sul concetto di intersezione tra istogrammi."
      ],
      "metadata": {
        "id": "A2RxnNNsTBjG"
      }
    },
    {
      "cell_type": "code",
      "source": [
        "def compute_color_feature_similarities(f1, f2):\n",
        "  return #TODO\n",
        "\n",
        "def compute_color_ranking(db_features, query_feature_vector):\n",
        "  similarities =[compute_color_feature_similarities(db_feature_vector, query_feature_vector) for db_feature_vector in db_features]\n",
        "  sorted_idx = np.array(similarities).argsort()[::-1]\n",
        "  return sorted_idx\n",
        "\n",
        "images_to_retrieve = 30\n",
        "query_color_features = compute_color_features(query)\n",
        "color_ranking = compute_color_ranking(db_color_features, query_color_features)\n",
        "color_result = [db_images[i] for i in color_ranking]\n",
        "cv2_imshow(query)\n",
        "show_images(color_result[:images_to_retrieve])"
      ],
      "metadata": {
        "id": "rNY_dPA1XxgY"
      },
      "execution_count": null,
      "outputs": []
    },
    {
      "cell_type": "markdown",
      "source": [
        "# **Forma**\n",
        "Per il calcolo del descrittore di forma si ricorrerà a un approccio che richiama il concetto di shape matrix.\n",
        "\n",
        "In queste immagini lo sfondo è sufficientemente uniforme, mentre gli oggetti sono caratterizzati da una tessitura evidente. L'analisi del modulo del gradiente permette dunque di isolare l'oggetto dallo sfondo.\n",
        "\n",
        "Il descrittore di forma si otterrà linearizzando l'immagine binaria `sm` ottenuta con i passaggi seguenti:\n",
        "\n",
        "*   Calcolo del gradiente utilizzando il metodo Sobel. La funzione da richiamare è `cv2.Sobel`, usando come depth `cv2.CV_64F` e un kernel di dimensione 3. La funzione andrà richiamata due volte per il calcolo del gradiente in x (`xorder=1`, `yorder=0`) e in y (`xorder=0`, `yorder=1`)\n",
        "*   Calcolo del modulo del gradiente\n",
        "$g_{mod}(p)=\\sqrt{g_x(p)^2+g_y(p)^2}$\n",
        "*   Resize dell'immagine del modulo del gradiente a dimensione 30x20 con interpolazione bicubica (`cv2.resize(...)`)\n",
        "*   Binarizzazione dell'immagine ridimensionata con soglia fissa 200 (`cv2.threshold(...)`)\n",
        "*   Applicazione dell'operatore morfologico di chiusura (`cv2.morphologyEx(...)`). Si consiglia di utilizzare un elemento strutturante quadrato di dimensione 5x5.\n",
        "\n",
        "\n",
        "\n",
        "\n",
        "<img src=https://biolab.csr.unibo.it/vr/esercitazioni/NotebookImages/EsCBIR/ShapeMatrix.png width=\"800\">"
      ],
      "metadata": {
        "id": "CTIwe2a_IBW7"
      }
    },
    {
      "cell_type": "code",
      "source": [
        "def compute_shape_features(img):\n",
        "  #TODO\n",
        "  return sm.flatten()\n",
        "\n",
        "db_gray_images = [cv2.cvtColor(img, cv2.COLOR_BGR2GRAY) for img in db_images]\n",
        "db_shape_features = [compute_shape_features(img) for img in tqdm(db_gray_images)]"
      ],
      "metadata": {
        "id": "FbHUBynf9SET"
      },
      "execution_count": null,
      "outputs": []
    },
    {
      "cell_type": "markdown",
      "source": [
        "## Ricerca di similarità sulla base della forma\n",
        "\n",
        "Anche in questo caso le immagini del database e la query vengono codificate usando il descrittore di forma sopra definito.\n",
        "\n",
        "Per il calcolo della similarità tra descrittori si usa in questo caso un indicatore di tipo Intersection over Union (IoU):\n",
        "\n",
        "<img src=https://biolab.csr.unibo.it/vr/esercitazioni/NotebookImages/EsCBIR/IoU.png width=\"400\">"
      ],
      "metadata": {
        "id": "3wREq2FN15xH"
      }
    },
    {
      "cell_type": "code",
      "source": [
        "def compute_shape_feature_similarities(f1, f2):\n",
        "  return #TODO\n",
        "\n",
        "def compute_shape_ranking(db_features, query_feature_vector):\n",
        "  similarities =[compute_shape_feature_similarities(db_feature_vector, query_feature_vector) for db_feature_vector in db_features]\n",
        "  sorted_idx = np.array(similarities).argsort()[::-1]\n",
        "  return sorted_idx\n",
        "\n",
        "query_shape_features = compute_shape_features(cv2.cvtColor(query, cv2.COLOR_BGR2GRAY))\n",
        "shape_ranking = compute_shape_ranking(db_shape_features, query_shape_features)\n",
        "shape_result = [db_images[i] for i in shape_ranking]\n",
        "cv2_imshow(query)\n",
        "show_images(shape_result[:images_to_retrieve])"
      ],
      "metadata": {
        "id": "TU08En86lXeI"
      },
      "execution_count": null,
      "outputs": []
    },
    {
      "cell_type": "markdown",
      "source": [
        "# **Texture**\n",
        "Il descrittore di tessitura viene calcolato utilizzando l'approccio Bag of (Visual) Words che vedremo più avanti a lezione.\n",
        "\n",
        "L'idea di base è quella di codificare un'immagine attraverso un istogramma di occorrenze di alcuni pattern di base, rappresentati da punti salienti e caratteristici estratti dalle immagini di training. Il sistema necessita dunque di una fase di addestramento per l'estrazione di questo insieme di pattern di riferimento."
      ],
      "metadata": {
        "id": "efsmI3JrIDPj"
      }
    },
    {
      "cell_type": "code",
      "source": [
        "def train_BOW(training_paths):\n",
        "  dictionarySize = 100\n",
        "  extractor = cv2.xfeatures2d.SIFT_create(edgeThreshold=10)\n",
        "  matcher = cv2.BFMatcher(cv2.NORM_L2)\n",
        "\n",
        "  BOW = cv2.BOWKMeansTrainer(dictionarySize)\n",
        "  print('Keypoint extraction from training images')\n",
        "  for p in tqdm(training_paths):\n",
        "      image = cv2.imread(p, 0)\n",
        "      kp, dsc= extractor.detectAndCompute(image, None)\n",
        "      BOW.add(dsc)\n",
        "\n",
        "  print('Creation of BOW dictionary')\n",
        "  dictionary = BOW.cluster()\n",
        "  bow_extractor = cv2.BOWImgDescriptorExtractor(extractor, matcher)\n",
        "  bow_extractor.setVocabulary(dictionary)\n",
        "  return bow_extractor\n",
        "\n",
        "def compute_BOW_features(img, bow_extractor):\n",
        "  extractor = cv2.xfeatures2d.SIFT_create(edgeThreshold=10)\n",
        "  kp = extractor.detect(img)\n",
        "  inp = bow_extractor.compute(img, kp)\n",
        "  return inp\n",
        "\n",
        "training_img_list = [file for file in glob.glob(os.path.join('/content/CeramicheFaenza','*.jpg'))]\n",
        "bow_extractor = train_BOW(training_img_list)\n",
        "print('BOW feature extraction')\n",
        "db_BOW_features = [compute_BOW_features(img, bow_extractor) for img in tqdm(db_gray_images)]"
      ],
      "metadata": {
        "id": "9Ctjgrm9H8Lk"
      },
      "execution_count": null,
      "outputs": []
    },
    {
      "cell_type": "markdown",
      "source": [
        "## Ricerca di similarità sulla base della texture\n",
        "Poiché il descrittore di tessitura utilizzato è un istogramma, si può usare l'intersezione come misura di similarità."
      ],
      "metadata": {
        "id": "OHuP-uhR5A27"
      }
    },
    {
      "cell_type": "code",
      "source": [
        "def compute_bow_feature_similarities(f1, f2):\n",
        "  return np.minimum(f1, f2).sum()\n",
        "\n",
        "def compute_bow_ranking(db_features, query_feature_vector):\n",
        "  similarities =[compute_bow_feature_similarities(db_feature_vector, query_feature_vector) for db_feature_vector in db_features]\n",
        "  sorted_idx = np.array(similarities).argsort()[::-1]\n",
        "  return sorted_idx\n",
        "\n",
        "query_BOW_features = compute_BOW_features(query, bow_extractor)\n",
        "bow_ranking = compute_bow_ranking(db_BOW_features, query_BOW_features)\n",
        "bow_result = [db_images[i] for i in bow_ranking]\n",
        "cv2_imshow(query)\n",
        "show_images(bow_result[:images_to_retrieve])"
      ],
      "metadata": {
        "id": "0xfkMca0nTMU"
      },
      "execution_count": null,
      "outputs": []
    },
    {
      "cell_type": "markdown",
      "source": [
        "# **Fusione dei risultati**\n",
        "Il risultato finale si ottiene attraverso una fusione a livello di ranking. In particolare, i ranking prodotti con le singole feature vengono combinati con il metodo Borda Count.\n",
        "\n",
        "<img src=https://biolab.csr.unibo.it/vr/esercitazioni/NotebookImages/EsCBIR/BordaCount.png width=\"800\">\n",
        "\n",
        "*   Ciascun tipo di feature produce un proprio ranking delle immagini del database, restituendo come risultato le K immagini più simili alla query (K=30).\n",
        "*   Per il ranking finale, BC attribuisce all’immagine in posizione i \"nella classifica\" ($𝑖∈[0, 𝐾−1]$) un punteggio $𝑠_𝑖=𝐾−𝑖$.\n",
        "*   In questa applicazione, viene attribuito un peso (nel range [0,1]) a ciascun tipo di feature, che si usa come fattore moltiplicativo per il punteggio $𝑠_𝑖$.\n"
      ],
      "metadata": {
        "id": "O2OZXbYdpwvm"
      }
    },
    {
      "cell_type": "code",
      "source": [
        "def borda_count(rankings, weights):\n",
        "  #TODO\n",
        "  return tot_scores\n",
        "\n",
        "tot_scores = borda_count([color_ranking, shape_ranking, bow_ranking], [0.2, 0.2, 0.6])\n",
        "tot_ranking = np.array(tot_scores).argsort()[::-1]\n",
        "result = [db_images[i] for i in tot_ranking]\n",
        "cv2_imshow(query)\n",
        "show_images(result[:images_to_retrieve])"
      ],
      "metadata": {
        "id": "AT-PIu3a9bxM"
      },
      "execution_count": null,
      "outputs": []
    },
    {
      "cell_type": "markdown",
      "source": [
        "# **Possibili miglioramenti**\n",
        "\n",
        "## Colore\n",
        "* Calcolare l'istogramma colore in altri spazi colore (YCbCr, HUV, etc.)\n",
        "* Calcolare il descrittore colore come istogramma 3D anziché come concatenazione di 3 istogrammi mono-canale\n",
        "* Calcolare l'istogramma solo nella regione contenente l'oggetto, senza includere lo sfondo\n",
        "\n",
        "## Forma\n",
        "* Provare tecniche alternative di segmentazione\n",
        "* Implementare la shape matrix così come vista a lezione\n"
      ],
      "metadata": {
        "id": "gXvZHFidRId1"
      }
    }
  ]
}